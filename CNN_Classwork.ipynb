{
 "cells": [
  {
   "cell_type": "markdown",
   "metadata": {},
   "source": [
    "# CNN 模型"
   ]
  },
  {
   "cell_type": "code",
   "execution_count": 155,
   "metadata": {},
   "outputs": [
    {
     "name": "stdout",
     "output_type": "stream",
     "text": [
      "env: KERAS_BACKEND=tensorflow\n"
     ]
    }
   ],
   "source": [
    "%env KERAS_BACKEND=tensorflow"
   ]
  },
  {
   "cell_type": "markdown",
   "metadata": {},
   "source": [
    "# Import 作業準備"
   ]
  },
  {
   "cell_type": "code",
   "execution_count": 176,
   "metadata": {},
   "outputs": [],
   "source": [
    "%matplotlib inline\n",
    "import numpy as np\n",
    "import matplotlib.pyplot as plt\n",
    "from keras.datasets import mnist\n",
    "from keras.utils import np_utils\n",
    "from ipywidgets import interact_manual"
   ]
  },
  {
   "cell_type": "code",
   "execution_count": 157,
   "metadata": {},
   "outputs": [],
   "source": [
    "(x_train, y_train), (x_test, y_test) = mnist.load_data()"
   ]
  },
  {
   "cell_type": "markdown",
   "metadata": {},
   "source": [
    "# 資料處理\n",
    "\n",
    "### 有做資料正規化，減少受到資料被極大值或極小質影響"
   ]
  },
  {
   "cell_type": "code",
   "execution_count": 158,
   "metadata": {},
   "outputs": [],
   "source": [
    "x_train = x_train.reshape(60000, 28, 28, 1)\n",
    "x_test = x_test.reshape(10000, 28, 28, 1)\n",
    "\n",
    "y_train = np_utils.to_categorical(y_train, 10)\n",
    "y_test = np_utils.to_categorical(y_test, 10)\n",
    "\n",
    "x_train = x_train/x_train.max()\n",
    "x_test = x_test/x_test.max()"
   ]
  },
  {
   "cell_type": "code",
   "execution_count": 159,
   "metadata": {},
   "outputs": [],
   "source": [
    "from keras.models import Sequential\n",
    "from keras.layers import Dense, Activation, Flatten\n",
    "from keras.layers import Conv2D, MaxPooling2D\n",
    "from keras.optimizers import SGD \n",
    "from keras.optimizers import Adadelta\n",
    "from keras import losses"
   ]
  },
  {
   "cell_type": "markdown",
   "metadata": {},
   "source": [
    "# Model 1 老師範例"
   ]
  },
  {
   "cell_type": "code",
   "execution_count": 160,
   "metadata": {},
   "outputs": [
    {
     "name": "stdout",
     "output_type": "stream",
     "text": [
      "_________________________________________________________________\n",
      "Layer (type)                 Output Shape              Param #   \n",
      "=================================================================\n",
      "conv2d_88 (Conv2D)           (None, 28, 28, 4)         104       \n",
      "_________________________________________________________________\n",
      "activation_135 (Activation)  (None, 28, 28, 4)         0         \n",
      "_________________________________________________________________\n",
      "max_pooling2d_88 (MaxPooling (None, 14, 14, 4)         0         \n",
      "_________________________________________________________________\n",
      "conv2d_89 (Conv2D)           (None, 14, 14, 8)         808       \n",
      "_________________________________________________________________\n",
      "activation_136 (Activation)  (None, 14, 14, 8)         0         \n",
      "_________________________________________________________________\n",
      "max_pooling2d_89 (MaxPooling (None, 7, 7, 8)           0         \n",
      "_________________________________________________________________\n",
      "conv2d_90 (Conv2D)           (None, 7, 7, 16)          3216      \n",
      "_________________________________________________________________\n",
      "activation_137 (Activation)  (None, 7, 7, 16)          0         \n",
      "_________________________________________________________________\n",
      "max_pooling2d_90 (MaxPooling (None, 3, 3, 16)          0         \n",
      "_________________________________________________________________\n",
      "flatten_25 (Flatten)         (None, 144)               0         \n",
      "_________________________________________________________________\n",
      "dense_48 (Dense)             (None, 9)                 1305      \n",
      "_________________________________________________________________\n",
      "activation_138 (Activation)  (None, 9)                 0         \n",
      "_________________________________________________________________\n",
      "dense_49 (Dense)             (None, 10)                100       \n",
      "_________________________________________________________________\n",
      "activation_139 (Activation)  (None, 10)                0         \n",
      "=================================================================\n",
      "Total params: 5,533\n",
      "Trainable params: 5,533\n",
      "Non-trainable params: 0\n",
      "_________________________________________________________________\n"
     ]
    }
   ],
   "source": [
    "model = Sequential()\n",
    "\n",
    "model.add(Conv2D(4, (5, 5), padding='same', input_shape=(28,28,1)))\n",
    "model.add(Activation('relu'))\n",
    "model.add(MaxPooling2D(pool_size=(2, 2)))\n",
    "\n",
    "model.add(Conv2D(8, (5, 5), padding='same'))\n",
    "model.add(Activation('relu'))\n",
    "model.add(MaxPooling2D(pool_size=(2, 2)))\n",
    "\n",
    "model.add(Conv2D(16, (5, 5), padding='same'))\n",
    "model.add(Activation('relu'))\n",
    "model.add(MaxPooling2D(pool_size=(2, 2)))\n",
    "\n",
    "model.add(Flatten())\n",
    "model.add(Dense(9))\n",
    "model.add(Activation('relu'))\n",
    "\n",
    "model.add(Dense(10))\n",
    "model.add(Activation('softmax'))\n",
    "\n",
    "model.compile(loss='mse', optimizer=SGD(lr=0.07), metrics=['accuracy'])\n",
    "model.summary()"
   ]
  },
  {
   "cell_type": "code",
   "execution_count": 161,
   "metadata": {},
   "outputs": [
    {
     "name": "stdout",
     "output_type": "stream",
     "text": [
      "Train on 60000 samples, validate on 10000 samples\n",
      "Epoch 1/10\n",
      "60000/60000 [==============================] - 5s 88us/step - loss: 0.0899 - acc: 0.0792 - val_loss: 0.0898 - val_acc: 0.1092\n",
      "Epoch 2/10\n",
      "60000/60000 [==============================] - 4s 72us/step - loss: 0.0898 - acc: 0.1256 - val_loss: 0.0896 - val_acc: 0.1517\n",
      "Epoch 3/10\n",
      "60000/60000 [==============================] - 4s 71us/step - loss: 0.0895 - acc: 0.1609 - val_loss: 0.0892 - val_acc: 0.1810\n",
      "Epoch 4/10\n",
      "60000/60000 [==============================] - 4s 71us/step - loss: 0.0889 - acc: 0.1916 - val_loss: 0.0884 - val_acc: 0.2087\n",
      "Epoch 5/10\n",
      "60000/60000 [==============================] - 4s 73us/step - loss: 0.0877 - acc: 0.2385 - val_loss: 0.0866 - val_acc: 0.2736\n",
      "Epoch 6/10\n",
      "60000/60000 [==============================] - 4s 74us/step - loss: 0.0849 - acc: 0.3236 - val_loss: 0.0820 - val_acc: 0.3969\n",
      "Epoch 7/10\n",
      "60000/60000 [==============================] - 4s 73us/step - loss: 0.0729 - acc: 0.4895 - val_loss: 0.0506 - val_acc: 0.6850\n",
      "Epoch 8/10\n",
      "60000/60000 [==============================] - 4s 73us/step - loss: 0.0372 - acc: 0.7598 - val_loss: 0.0284 - val_acc: 0.8152\n",
      "Epoch 9/10\n",
      "60000/60000 [==============================] - 4s 73us/step - loss: 0.0250 - acc: 0.8343 - val_loss: 0.0169 - val_acc: 0.9021\n",
      "Epoch 10/10\n",
      "60000/60000 [==============================] - 4s 73us/step - loss: 0.0142 - acc: 0.9138 - val_loss: 0.0115 - val_acc: 0.9285\n"
     ]
    }
   ],
   "source": [
    "model1_out=model.fit(x_train, y_train, batch_size=100, epochs=10,verbose =1,validation_data = (x_test_n,y_test))"
   ]
  },
  {
   "cell_type": "markdown",
   "metadata": {},
   "source": [
    "###  正確率可達到 91.38%"
   ]
  },
  {
   "cell_type": "markdown",
   "metadata": {},
   "source": [
    "# Model 2\n",
    "\n",
    "### 增加每一層CNN的 Filter、NN的Dense"
   ]
  },
  {
   "cell_type": "code",
   "execution_count": 162,
   "metadata": {},
   "outputs": [
    {
     "name": "stdout",
     "output_type": "stream",
     "text": [
      "_________________________________________________________________\n",
      "Layer (type)                 Output Shape              Param #   \n",
      "=================================================================\n",
      "conv2d_91 (Conv2D)           (None, 28, 28, 8)         208       \n",
      "_________________________________________________________________\n",
      "activation_140 (Activation)  (None, 28, 28, 8)         0         \n",
      "_________________________________________________________________\n",
      "max_pooling2d_91 (MaxPooling (None, 14, 14, 8)         0         \n",
      "_________________________________________________________________\n",
      "conv2d_92 (Conv2D)           (None, 14, 14, 16)        3216      \n",
      "_________________________________________________________________\n",
      "activation_141 (Activation)  (None, 14, 14, 16)        0         \n",
      "_________________________________________________________________\n",
      "max_pooling2d_92 (MaxPooling (None, 7, 7, 16)          0         \n",
      "_________________________________________________________________\n",
      "conv2d_93 (Conv2D)           (None, 7, 7, 32)          12832     \n",
      "_________________________________________________________________\n",
      "activation_142 (Activation)  (None, 7, 7, 32)          0         \n",
      "_________________________________________________________________\n",
      "max_pooling2d_93 (MaxPooling (None, 3, 3, 32)          0         \n",
      "_________________________________________________________________\n",
      "conv2d_94 (Conv2D)           (None, 3, 3, 64)          51264     \n",
      "_________________________________________________________________\n",
      "activation_143 (Activation)  (None, 3, 3, 64)          0         \n",
      "_________________________________________________________________\n",
      "max_pooling2d_94 (MaxPooling (None, 1, 1, 64)          0         \n",
      "_________________________________________________________________\n",
      "flatten_26 (Flatten)         (None, 64)                0         \n",
      "_________________________________________________________________\n",
      "dense_50 (Dense)             (None, 30)                1950      \n",
      "_________________________________________________________________\n",
      "activation_144 (Activation)  (None, 30)                0         \n",
      "_________________________________________________________________\n",
      "dense_51 (Dense)             (None, 10)                310       \n",
      "_________________________________________________________________\n",
      "activation_145 (Activation)  (None, 10)                0         \n",
      "=================================================================\n",
      "Total params: 69,780\n",
      "Trainable params: 69,780\n",
      "Non-trainable params: 0\n",
      "_________________________________________________________________\n"
     ]
    }
   ],
   "source": [
    "model2 = Sequential()\n",
    "\n",
    "model2.add(Conv2D(8, (5, 5), padding='same', input_shape=(28,28,1)))\n",
    "model2.add(Activation('relu'))\n",
    "model2.add(MaxPooling2D(pool_size=(2, 2)))\n",
    "\n",
    "model2.add(Conv2D(16, (5, 5), padding='same'))\n",
    "model2.add(Activation('relu'))\n",
    "model2.add(MaxPooling2D(pool_size=(2, 2)))\n",
    "\n",
    "model2.add(Conv2D(32, (5, 5), padding='same'))\n",
    "model2.add(Activation('relu'))\n",
    "model2.add(MaxPooling2D(pool_size=(2, 2)))\n",
    "\n",
    "model2.add(Conv2D(64, (5, 5), padding='same'))\n",
    "model2.add(Activation('relu'))\n",
    "model2.add(MaxPooling2D(pool_size=(2, 2)))\n",
    "\n",
    "model2.add(Flatten())\n",
    "model2.add(Dense(30))\n",
    "model2.add(Activation('relu'))\n",
    "\n",
    "model2.add(Dense(10))\n",
    "model2.add(Activation('softmax'))\n",
    "\n",
    "model2.compile(loss='mse', optimizer=SGD(lr=0.07), metrics=['accuracy'])\n",
    "model2.summary()"
   ]
  },
  {
   "cell_type": "code",
   "execution_count": 163,
   "metadata": {},
   "outputs": [
    {
     "name": "stdout",
     "output_type": "stream",
     "text": [
      "Train on 60000 samples, validate on 10000 samples\n",
      "Epoch 1/10\n",
      "60000/60000 [==============================] - 8s 125us/step - loss: 0.0899 - acc: 0.1171 - val_loss: 0.0899 - val_acc: 0.1188\n",
      "Epoch 2/10\n",
      "60000/60000 [==============================] - 7s 110us/step - loss: 0.0898 - acc: 0.1213 - val_loss: 0.0898 - val_acc: 0.1344\n",
      "Epoch 3/10\n",
      "60000/60000 [==============================] - 7s 110us/step - loss: 0.0897 - acc: 0.1511 - val_loss: 0.0896 - val_acc: 0.1666\n",
      "Epoch 4/10\n",
      "60000/60000 [==============================] - 7s 111us/step - loss: 0.0894 - acc: 0.1910 - val_loss: 0.0892 - val_acc: 0.2120\n",
      "Epoch 5/10\n",
      "60000/60000 [==============================] - 7s 111us/step - loss: 0.0888 - acc: 0.2289 - val_loss: 0.0881 - val_acc: 0.2406\n",
      "Epoch 6/10\n",
      "60000/60000 [==============================] - 7s 111us/step - loss: 0.0846 - acc: 0.2568 - val_loss: 0.0768 - val_acc: 0.3115\n",
      "Epoch 7/10\n",
      "60000/60000 [==============================] - 7s 110us/step - loss: 0.0629 - acc: 0.5268 - val_loss: 0.0383 - val_acc: 0.7826\n",
      "Epoch 8/10\n",
      "60000/60000 [==============================] - 7s 111us/step - loss: 0.0283 - acc: 0.8137 - val_loss: 0.0186 - val_acc: 0.8775\n",
      "Epoch 9/10\n",
      "60000/60000 [==============================] - 7s 111us/step - loss: 0.0172 - acc: 0.8884 - val_loss: 0.0153 - val_acc: 0.9042\n",
      "Epoch 10/10\n",
      "60000/60000 [==============================] - 7s 110us/step - loss: 0.0131 - acc: 0.9154 - val_loss: 0.0118 - val_acc: 0.9240\n"
     ]
    }
   ],
   "source": [
    "model2_out=model2.fit(x_train, y_train, batch_size=100, epochs=10,verbose =1,validation_data = (x_test_n,y_test))"
   ]
  },
  {
   "cell_type": "markdown",
   "metadata": {},
   "source": [
    "### 正確率達到 91.54%"
   ]
  },
  {
   "cell_type": "markdown",
   "metadata": {},
   "source": [
    "# Model 3 \n",
    "\n",
    "### loss fuction 選用crossentropy，optimizer使用Adadelta"
   ]
  },
  {
   "cell_type": "code",
   "execution_count": 164,
   "metadata": {},
   "outputs": [
    {
     "name": "stdout",
     "output_type": "stream",
     "text": [
      "_________________________________________________________________\n",
      "Layer (type)                 Output Shape              Param #   \n",
      "=================================================================\n",
      "conv2d_95 (Conv2D)           (None, 28, 28, 8)         208       \n",
      "_________________________________________________________________\n",
      "activation_146 (Activation)  (None, 28, 28, 8)         0         \n",
      "_________________________________________________________________\n",
      "max_pooling2d_95 (MaxPooling (None, 14, 14, 8)         0         \n",
      "_________________________________________________________________\n",
      "conv2d_96 (Conv2D)           (None, 14, 14, 16)        3216      \n",
      "_________________________________________________________________\n",
      "activation_147 (Activation)  (None, 14, 14, 16)        0         \n",
      "_________________________________________________________________\n",
      "max_pooling2d_96 (MaxPooling (None, 7, 7, 16)          0         \n",
      "_________________________________________________________________\n",
      "conv2d_97 (Conv2D)           (None, 7, 7, 32)          12832     \n",
      "_________________________________________________________________\n",
      "activation_148 (Activation)  (None, 7, 7, 32)          0         \n",
      "_________________________________________________________________\n",
      "max_pooling2d_97 (MaxPooling (None, 3, 3, 32)          0         \n",
      "_________________________________________________________________\n",
      "conv2d_98 (Conv2D)           (None, 3, 3, 64)          51264     \n",
      "_________________________________________________________________\n",
      "activation_149 (Activation)  (None, 3, 3, 64)          0         \n",
      "_________________________________________________________________\n",
      "max_pooling2d_98 (MaxPooling (None, 1, 1, 64)          0         \n",
      "_________________________________________________________________\n",
      "flatten_27 (Flatten)         (None, 64)                0         \n",
      "_________________________________________________________________\n",
      "dense_52 (Dense)             (None, 30)                1950      \n",
      "_________________________________________________________________\n",
      "activation_150 (Activation)  (None, 30)                0         \n",
      "_________________________________________________________________\n",
      "dense_53 (Dense)             (None, 10)                310       \n",
      "_________________________________________________________________\n",
      "activation_151 (Activation)  (None, 10)                0         \n",
      "=================================================================\n",
      "Total params: 69,780\n",
      "Trainable params: 69,780\n",
      "Non-trainable params: 0\n",
      "_________________________________________________________________\n"
     ]
    }
   ],
   "source": [
    "model3 = Sequential()\n",
    "\n",
    "model3.add(Conv2D(8, (5, 5), padding='same', input_shape=(28,28,1)))\n",
    "model3.add(Activation('relu'))\n",
    "model3.add(MaxPooling2D(pool_size=(2, 2)))\n",
    "\n",
    "model3.add(Conv2D(16, (5, 5), padding='same'))\n",
    "model3.add(Activation('relu'))\n",
    "model3.add(MaxPooling2D(pool_size=(2, 2)))\n",
    "\n",
    "model3.add(Conv2D(32, (5, 5), padding='same'))\n",
    "model3.add(Activation('relu'))\n",
    "model3.add(MaxPooling2D(pool_size=(2, 2)))\n",
    "\n",
    "model3.add(Conv2D(64, (5, 5), padding='same'))\n",
    "model3.add(Activation('relu'))\n",
    "model3.add(MaxPooling2D(pool_size=(2, 2)))\n",
    "\n",
    "model3.add(Flatten())\n",
    "model3.add(Dense(30))\n",
    "model3.add(Activation('relu'))\n",
    "\n",
    "model3.add(Dense(10))\n",
    "model3.add(Activation('softmax')) \n",
    "\n",
    "model3.compile(loss=losses.categorical_crossentropy, optimizer=Adadelta(lr=0.5), metrics=['accuracy'])\n",
    "model3.summary()"
   ]
  },
  {
   "cell_type": "code",
   "execution_count": 165,
   "metadata": {},
   "outputs": [
    {
     "name": "stdout",
     "output_type": "stream",
     "text": [
      "Train on 60000 samples, validate on 10000 samples\n",
      "Epoch 1/10\n",
      "60000/60000 [==============================] - 9s 143us/step - loss: 0.3814 - acc: 0.8744 - val_loss: 0.0851 - val_acc: 0.9728\n",
      "Epoch 2/10\n",
      "60000/60000 [==============================] - 8s 126us/step - loss: 0.0735 - acc: 0.9770 - val_loss: 0.0546 - val_acc: 0.9818\n",
      "Epoch 3/10\n",
      "60000/60000 [==============================] - 8s 126us/step - loss: 0.0526 - acc: 0.9836 - val_loss: 0.0455 - val_acc: 0.9850\n",
      "Epoch 4/10\n",
      "60000/60000 [==============================] - 8s 125us/step - loss: 0.0410 - acc: 0.9867 - val_loss: 0.0353 - val_acc: 0.9887\n",
      "Epoch 5/10\n",
      "60000/60000 [==============================] - 8s 126us/step - loss: 0.0328 - acc: 0.9891 - val_loss: 0.0316 - val_acc: 0.9895\n",
      "Epoch 6/10\n",
      "60000/60000 [==============================] - 8s 125us/step - loss: 0.0271 - acc: 0.9914 - val_loss: 0.0397 - val_acc: 0.9870\n",
      "Epoch 7/10\n",
      "60000/60000 [==============================] - 8s 126us/step - loss: 0.0227 - acc: 0.9926 - val_loss: 0.0293 - val_acc: 0.9898\n",
      "Epoch 8/10\n",
      "60000/60000 [==============================] - 8s 126us/step - loss: 0.0202 - acc: 0.9936 - val_loss: 0.0270 - val_acc: 0.9908\n",
      "Epoch 9/10\n",
      "60000/60000 [==============================] - 8s 126us/step - loss: 0.0169 - acc: 0.9945 - val_loss: 0.0373 - val_acc: 0.9884\n",
      "Epoch 10/10\n",
      "60000/60000 [==============================] - 8s 126us/step - loss: 0.0144 - acc: 0.9956 - val_loss: 0.0430 - val_acc: 0.9862\n"
     ]
    }
   ],
   "source": [
    "model3_out=model3.fit(x_train, y_train, batch_size=100, epochs=10,verbose =1,validation_data = (x_test_n,y_test))"
   ]
  },
  {
   "cell_type": "markdown",
   "metadata": {},
   "source": [
    "### 正確率達到 99.56%"
   ]
  },
  {
   "cell_type": "code",
   "execution_count": 171,
   "metadata": {},
   "outputs": [
    {
     "data": {
      "image/png": "[encoded data removed]",
      "text/plain": [
       "<Figure size 432x288 with 1 Axes>"
      ]
     },
     "metadata": {},
     "output_type": "display_data"
    }
   ],
   "source": [
    "plt.plot(model1_out.history[\"acc\"])\n",
    "plt.plot(model2_out.history[\"acc\"])\n",
    "plt.plot(model3_out.history[\"acc\"])\n",
    "\n",
    "plt.title(\"model training accuracy\")\n",
    "plt.ylabel(\"accuracy\")\n",
    "plt.xlabel(\"epoch\")\n",
    "plt.legend([\"model_1\",\"model_2\",\"model_3\"],loc=\"best\")\n",
    "plt.show()"
   ]
  },
  {
   "cell_type": "markdown",
   "metadata": {},
   "source": [
    "# 觀看測試資料的結果"
   ]
  },
  {
   "cell_type": "code",
   "execution_count": 172,
   "metadata": {},
   "outputs": [
    {
     "name": "stdout",
     "output_type": "stream",
     "text": [
      "10000/10000 [==============================] - 1s 79us/step\n",
      "10000/10000 [==============================] - 1s 82us/step\n",
      "10000/10000 [==============================] - 1s 85us/step\n"
     ]
    }
   ],
   "source": [
    "score1=model.evaluate(x_test_n,y_test)\n",
    "score2=model2.evaluate(x_test_n,y_test)\n",
    "score3=model3.evaluate(x_test_n,y_test)"
   ]
  },
  {
   "cell_type": "code",
   "execution_count": 173,
   "metadata": {},
   "outputs": [
    {
     "name": "stdout",
     "output_type": "stream",
     "text": [
      "loss: 0.011461496818903833 正確率: 0.9285\n",
      "loss: 0.011765844396688045 正確率: 0.924\n",
      "loss: 0.0429844321577606 正確率: 0.9862\n"
     ]
    }
   ],
   "source": [
    "print('loss:',score1[0],'正確率:',score1[1])\n",
    "print('loss:',score2[0],'正確率:',score2[1])\n",
    "print('loss:',score3[0],'正確率:',score3[1])"
   ]
  },
  {
   "cell_type": "markdown",
   "metadata": {},
   "source": [
    "# 實際測試"
   ]
  },
  {
   "cell_type": "code",
   "execution_count": 178,
   "metadata": {},
   "outputs": [],
   "source": [
    "def test(測試編號):\n",
    "    plt.imshow(x_test[測試編號].reshape(28,28), cmap=\"Greys\")\n",
    "    print(\"91.38%Model判斷為:\", predict_1[測試編號])\n",
    "    print(\"91.54%Model判斷為:\", predict_2[測試編號])\n",
    "    print(\"99.56%Model判斷為:\", predict_3[測試編號])"
   ]
  },
  {
   "cell_type": "code",
   "execution_count": 179,
   "metadata": {},
   "outputs": [
    {
     "data": {
      "application/vnd.jupyter.widget-view+json": {
       "model_id": "0ad8db70d8c244aea7cbea4c47bca758",
       "version_major": 2,
       "version_minor": 0
      },
      "text/plain": [
       "interactive(children=(IntSlider(value=4999, description='測試編號', max=9999), Button(description='Run Interact', …"
      ]
     },
     "metadata": {},
     "output_type": "display_data"
    },
    {
     "data": {
      "text/plain": [
       "<function __main__.test(測試編號)>"
      ]
     },
     "execution_count": 179,
     "metadata": {},
     "output_type": "execute_result"
    }
   ],
   "source": [
    "predict_1= model.predict_classes(x_test)\n",
    "predict_2= model2.predict_classes(x_test)\n",
    "predict_3= model3.predict_classes(x_test)\n",
    "\n",
    "interact_manual(test,測試編號=(0,9999))"
   ]
  },
  {
   "cell_type": "markdown",
   "metadata": {},
   "source": [
    "### 結論:發現三個Model 都有不錯的正確率，尤其是把 loss fuction 選用crossentropy，optimizer使用Adadelta。效果更顯著"
   ]
  },
  {
   "cell_type": "code",
   "execution_count": null,
   "metadata": {},
   "outputs": [],
   "source": []
  }
 ],
 "metadata": {
  "kernelspec": {
   "display_name": "Python 3",
   "language": "python",
   "name": "python3"
  },
  "language_info": {
   "codemirror_mode": {
    "name": "ipython",
    "version": 3
   },
   "file_extension": ".py",
   "mimetype": "text/x-python",
   "name": "python",
   "nbconvert_exporter": "python",
   "pygments_lexer": "ipython3",
   "version": "3.6.5"
  }
 },
 "nbformat": 4,
 "nbformat_minor": 2
}

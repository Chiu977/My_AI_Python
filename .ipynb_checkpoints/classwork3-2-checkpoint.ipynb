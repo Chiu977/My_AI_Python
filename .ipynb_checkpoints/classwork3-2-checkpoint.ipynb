{
 "cells": [
  {
   "cell_type": "code",
   "execution_count": 4,
   "metadata": {},
   "outputs": [],
   "source": [
    "%matplotlib inline\n",
    "import numpy as np\n",
    "import matplotlib.pyplot as plt\n",
    "from ipywidgets import interact_manual\n",
    "from matplotlib.font_manager import FontProperties\n",
    "import pandas as pd\n",
    "plt.rcParams['font.sans-serif'] = ['Noto Sans CJK TC']"
   ]
  },
  {
   "cell_type": "code",
   "execution_count": 7,
   "metadata": {},
   "outputs": [
    {
     "name": "stdout",
     "output_type": "stream",
     "text": [
      "[  5   6  13  23  23  34  35  40  42  43  45  45  46  53  53  54  63  63\n",
      "  65  70  71  75  76  78  80  80  83  83  84  92  96  97 100]\n",
      "平均:58.06060606060606\n",
      "最高分數:100\n",
      "最低分數:5\n"
     ]
    },
    {
     "data": {
      "image/png": "[encoded data removed]",
      "text/plain": [
       "<Figure size 600x400 with 1 Axes>"
      ]
     },
     "metadata": {},
     "output_type": "display_data"
    },
    {
     "data": {
      "image/png": "[encoded data removed]",
      "text/plain": [
       "<Figure size 600x400 with 1 Axes>"
      ]
     },
     "metadata": {},
     "output_type": "display_data"
    },
    {
     "data": {
      "application/vnd.jupyter.widget-view+json": {
       "model_id": "0fc73d01e5ee407fb1e31fe8592b99eb",
       "version_major": 2,
       "version_minor": 0
      },
      "text/plain": [
       "interactive(children=(IntSlider(value=2, description='w', max=5), Button(description='Run Interact', style=But…"
      ]
     },
     "metadata": {},
     "output_type": "display_data"
    }
   ],
   "source": [
    "temp=0 \n",
    "mean=0\n",
    "subject_arr=['A+','A','A-','B+','B','B-','C+','C','C-','E']\n",
    "\n",
    "\n",
    "def GPA_convert(array):\n",
    "    GPA_arr=np.zeros(10)\n",
    "    for i in array:\n",
    "        if i>=90 and i<=100:\n",
    "            GPA_arr[0]=GPA_arr[0]+1\n",
    "        elif i>=85 and i<=89:\n",
    "            GPA_arr[1]=GPA_arr[1]+1 \n",
    "        elif i>=80 and i<=84:\n",
    "            GPA_arr[2]=GPA_arr[2]+1 \n",
    "        elif i>=77 and i<=79:\n",
    "            GPA_arr[3]=GPA_arr[3]+1 \n",
    "        elif i>=73 and i<=76:\n",
    "            GPA_arr[4]=GPA_arr[4]+1 \n",
    "        elif i>=70 and i<=72:\n",
    "            GPA_arr[5]=GPA_arr[5]+1 \n",
    "        elif i>=67 and i<=69:\n",
    "            GPA_arr[6]=GPA_arr[6]+1 \n",
    "        elif i>=63 and i<=66:\n",
    "            GPA_arr[7]=GPA_arr[7]+1 \n",
    "        elif i>=60 and i<=62:\n",
    "            GPA_arr[8]=GPA_arr[8]+1 \n",
    "        else:\n",
    "            GPA_arr[9]=GPA_arr[9]+1\n",
    "    return GPA_arr\n",
    "\n",
    "def Weight(w):\n",
    "    wgrade=grade\n",
    "    for i in range(w):\n",
    "        wgrade=np.sqrt(wgrade)*10\n",
    "    wgrade=wgrade.astype(int)\n",
    "    plot(wgrade)\n",
    "        \n",
    "def plot(garray): \n",
    "    grade_sort=np.sort(garray)\n",
    "    mean=grade_sort.mean()\n",
    "    gba_arr=GPA_convert(grade_sort)\n",
    "    \n",
    "    plt.figure(dpi=100)\n",
    "    plt.bar(subject_arr, gba_arr, color = \"orange\")\n",
    "    plt.ylabel(\"人數\")\n",
    "    plt.xlabel(\"GPA\")\n",
    "    plt.title('GPA 直線圖')\n",
    "    \n",
    "    plt.figure(dpi=100)\n",
    "    plt.plot(garray,'o', color = \"blue\")\n",
    "    plt.ylabel(\"分數\")\n",
    "    plt.xlabel(\"座號\")\n",
    "    plt.title('分數 直線圖')\n",
    "    print(grade_sort)\n",
    "    print(\"平均:\"+ str(mean))\n",
    "    print(\"最高分數:\"+str(grade_sort[len(grade)-1]))\n",
    "    print(\"最低分數:\"+str(grade_sort[0]))    \n",
    "    plt.show()\n",
    "\n",
    "df=pd.read_excel('grade.xlsx') \n",
    "df = df[pd.notnull(df['期末考'])]\n",
    "grade=np.array(df.期末考)\n",
    "grade=grade.astype(int)\n",
    "plot(grade)\n",
    "interact_manual(Weight,w=(0,5));"
   ]
  },
  {
   "cell_type": "code",
   "execution_count": null,
   "metadata": {},
   "outputs": [],
   "source": []
  },
  {
   "cell_type": "code",
   "execution_count": null,
   "metadata": {},
   "outputs": [],
   "source": []
  }
 ],
 "metadata": {
  "kernelspec": {
   "display_name": "Python 3",
   "language": "python",
   "name": "python3"
  },
  "language_info": {
   "codemirror_mode": {
    "name": "ipython",
    "version": 3
   },
   "file_extension": ".py",
   "mimetype": "text/x-python",
   "name": "python",
   "nbconvert_exporter": "python",
   "pygments_lexer": "ipython3",
   "version": "3.6.5"
  }
 },
 "nbformat": 4,
 "nbformat_minor": 2
}

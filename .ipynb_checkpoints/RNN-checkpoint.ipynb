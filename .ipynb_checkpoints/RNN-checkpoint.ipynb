{
 "cells": [
  {
   "cell_type": "markdown",
   "metadata": {},
   "source": [
    "## Import 所需要的東西"
   ]
  },
  {
   "cell_type": "code",
   "execution_count": 1,
   "metadata": {},
   "outputs": [
    {
     "name": "stdout",
     "output_type": "stream",
     "text": [
      "env: KERAS_BACKEND=tensorflow\n"
     ]
    }
   ],
   "source": [
    "%env KERAS_BACKEND=tensorflow"
   ]
  },
  {
   "cell_type": "code",
   "execution_count": 2,
   "metadata": {},
   "outputs": [],
   "source": [
    "%matplotlib inline\n",
    "import numpy as np\n",
    "import matplotlib.pyplot as plt"
   ]
  },
  {
   "cell_type": "code",
   "execution_count": 3,
   "metadata": {},
   "outputs": [
    {
     "name": "stderr",
     "output_type": "stream",
     "text": [
      "E:\\Visual_2017\\Anaconda3_64\\lib\\site-packages\\h5py\\__init__.py:36: FutureWarning: Conversion of the second argument of issubdtype from `float` to `np.floating` is deprecated. In future, it will be treated as `np.float64 == np.dtype(float).type`.\n",
      "  from ._conv import register_converters as _register_converters\n",
      "Using TensorFlow backend.\n"
     ]
    }
   ],
   "source": [
    "from keras.datasets import imdb"
   ]
  },
  {
   "cell_type": "code",
   "execution_count": 4,
   "metadata": {},
   "outputs": [],
   "source": [
    "(x_train, y_train), (x_test, y_test) = imdb.load_data(num_words=10000)"
   ]
  },
  {
   "cell_type": "code",
   "execution_count": 5,
   "metadata": {},
   "outputs": [
    {
     "name": "stdout",
     "output_type": "stream",
     "text": [
      "訓練資料總筆數 = 25000\n",
      "測試資料總筆數 = 25000\n"
     ]
    }
   ],
   "source": [
    "print(\"訓練資料總筆數 =\", len(x_train))\n",
    "print(\"測試資料總筆數 =\", len(x_test))"
   ]
  },
  {
   "cell_type": "markdown",
   "metadata": {},
   "source": [
    "## 選取所需的文字長度\n",
    "### *發現150是不夠讓測試資料正確率達到87%"
   ]
  },
  {
   "cell_type": "code",
   "execution_count": 6,
   "metadata": {},
   "outputs": [],
   "source": [
    "from keras.preprocessing import sequence"
   ]
  },
  {
   "cell_type": "code",
   "execution_count": 7,
   "metadata": {},
   "outputs": [],
   "source": [
    "x_train = sequence.pad_sequences(x_train, maxlen=500)\n",
    "x_test = sequence.pad_sequences(x_test, maxlen=500)"
   ]
  },
  {
   "cell_type": "code",
   "execution_count": 8,
   "metadata": {},
   "outputs": [],
   "source": [
    "from keras.models import Sequential\n",
    "from keras.layers import Dense, Embedding\n",
    "from keras.layers import LSTM\n",
    "from keras.optimizers import Adadelta\n",
    "from keras.optimizers import Adam\n",
    "from keras.layers import Dropout\n",
    "from keras.callbacks import EarlyStopping"
   ]
  },
  {
   "cell_type": "markdown",
   "metadata": {},
   "source": [
    "# 使用老師的Model"
   ]
  },
  {
   "cell_type": "code",
   "execution_count": 9,
   "metadata": {},
   "outputs": [],
   "source": [
    "N=3 #文字要壓到N維\n",
    "K=4 #LSTM有K個神經元"
   ]
  },
  {
   "cell_type": "code",
   "execution_count": 10,
   "metadata": {},
   "outputs": [
    {
     "name": "stdout",
     "output_type": "stream",
     "text": [
      "_________________________________________________________________\n",
      "Layer (type)                 Output Shape              Param #   \n",
      "=================================================================\n",
      "embedding_1 (Embedding)      (None, None, 3)           30000     \n",
      "_________________________________________________________________\n",
      "lstm_1 (LSTM)                (None, 4)                 128       \n",
      "_________________________________________________________________\n",
      "dense_1 (Dense)              (None, 1)                 5         \n",
      "=================================================================\n",
      "Total params: 30,133\n",
      "Trainable params: 30,133\n",
      "Non-trainable params: 0\n",
      "_________________________________________________________________\n"
     ]
    }
   ],
   "source": [
    "model = Sequential()\n",
    "model.add(Embedding(10000, N))\n",
    "model.add(LSTM(K))\n",
    "model.add(Dense(1, activation='sigmoid'))\n",
    "model.compile(loss='binary_crossentropy',optimizer='adam',metrics=['accuracy'])\n",
    "model.summary()"
   ]
  },
  {
   "cell_type": "code",
   "execution_count": 11,
   "metadata": {},
   "outputs": [
    {
     "name": "stdout",
     "output_type": "stream",
     "text": [
      "Train on 25000 samples, validate on 25000 samples\n",
      "Epoch 1/5\n",
      "25000/25000 [==============================] - 180s 7ms/step - loss: 0.6443 - acc: 0.6630 - val_loss: 0.5250 - val_acc: 0.7864\n",
      "Epoch 2/5\n",
      "25000/25000 [==============================] - 177s 7ms/step - loss: 0.4271 - acc: 0.8502 - val_loss: 0.4026 - val_acc: 0.8400\n",
      "Epoch 3/5\n",
      "25000/25000 [==============================] - 180s 7ms/step - loss: 0.3167 - acc: 0.8991 - val_loss: 0.3400 - val_acc: 0.8690\n",
      "Epoch 4/5\n",
      "25000/25000 [==============================] - 175s 7ms/step - loss: 0.2573 - acc: 0.9204 - val_loss: 0.3302 - val_acc: 0.8682\n",
      "Epoch 5/5\n",
      "25000/25000 [==============================] - 457s 18ms/step - loss: 0.2193 - acc: 0.9332 - val_loss: 0.6292 - val_acc: 0.7812\n"
     ]
    }
   ],
   "source": [
    "model_out1=model.fit(x_train, y_train,batch_size=128,epochs=5,verbose =1,validation_data = (x_test,y_test))"
   ]
  },
  {
   "cell_type": "markdown",
   "metadata": {},
   "source": [
    "### *正確率無法達到87%，且會產生Overfitting"
   ]
  },
  {
   "cell_type": "markdown",
   "metadata": {},
   "source": [
    "# 提升Input維度、LSTM且使用Dropout和Earlystop來解決overfitting，並且後面的NN多放一層"
   ]
  },
  {
   "cell_type": "code",
   "execution_count": 21,
   "metadata": {},
   "outputs": [
    {
     "name": "stdout",
     "output_type": "stream",
     "text": [
      "_________________________________________________________________\n",
      "Layer (type)                 Output Shape              Param #   \n",
      "=================================================================\n",
      "embedding_4 (Embedding)      (None, None, 30)          300000    \n",
      "_________________________________________________________________\n",
      "dropout_7 (Dropout)          (None, None, 30)          0         \n",
      "_________________________________________________________________\n",
      "lstm_4 (LSTM)                (None, 10)                1640      \n",
      "_________________________________________________________________\n",
      "dropout_8 (Dropout)          (None, 10)                0         \n",
      "_________________________________________________________________\n",
      "dense_6 (Dense)              (None, 30)                330       \n",
      "_________________________________________________________________\n",
      "dropout_9 (Dropout)          (None, 30)                0         \n",
      "_________________________________________________________________\n",
      "dense_7 (Dense)              (None, 1)                 31        \n",
      "=================================================================\n",
      "Total params: 302,001\n",
      "Trainable params: 302,001\n",
      "Non-trainable params: 0\n",
      "_________________________________________________________________\n"
     ]
    }
   ],
   "source": [
    "model2 = Sequential()\n",
    "model2.add(Embedding(10000, 30))\n",
    "model2.add(Dropout(0.5))\n",
    "model2.add(LSTM(10))\n",
    "model2.add(Dropout(0.5))\n",
    "model2.add(Dense(30, activation='relu'))\n",
    "model2.add(Dropout(0.5))\n",
    "model2.add(Dense(1, activation='sigmoid'))\n",
    "model2.compile(loss='binary_crossentropy',optimizer='adam',metrics=['accuracy'])\n",
    "model2.summary()"
   ]
  },
  {
   "cell_type": "code",
   "execution_count": 22,
   "metadata": {},
   "outputs": [
    {
     "name": "stdout",
     "output_type": "stream",
     "text": [
      "Train on 25000 samples, validate on 25000 samples\n",
      "Epoch 1/10\n",
      "25000/25000 [==============================] - 705s 28ms/step - loss: 0.5348 - acc: 0.7225 - val_loss: 0.3377 - val_acc: 0.8578\n",
      "Epoch 2/10\n",
      "25000/25000 [==============================] - 708s 28ms/step - loss: 0.3193 - acc: 0.8839 - val_loss: 0.3239 - val_acc: 0.8616\n",
      "Epoch 3/10\n",
      "25000/25000 [==============================] - 722s 29ms/step - loss: 0.3021 - acc: 0.8991 - val_loss: 0.3096 - val_acc: 0.8771\n",
      "Epoch 4/10\n",
      "25000/25000 [==============================] - 710s 28ms/step - loss: 0.2259 - acc: 0.9232 - val_loss: 0.3185 - val_acc: 0.8742\n",
      "Epoch 00004: early stopping\n"
     ]
    }
   ],
   "source": [
    "EarlyStop = EarlyStopping(monitor='val_loss',verbose=2,patience=1)\n",
    "model_out2=model2.fit(x_train, y_train,batch_size=32,epochs=10,validation_data = (x_test,y_test),callbacks=[EarlyStop])"
   ]
  },
  {
   "cell_type": "markdown",
   "metadata": {},
   "source": [
    "### *有成功的達到87%\n",
    "\n",
    "# 大幅度提升Embedding、LSTM、Relu的Dense"
   ]
  },
  {
   "cell_type": "code",
   "execution_count": 35,
   "metadata": {},
   "outputs": [
    {
     "name": "stdout",
     "output_type": "stream",
     "text": [
      "_________________________________________________________________\n",
      "Layer (type)                 Output Shape              Param #   \n",
      "=================================================================\n",
      "embedding_7 (Embedding)      (None, None, 500)         5000000   \n",
      "_________________________________________________________________\n",
      "dropout_16 (Dropout)         (None, None, 500)         0         \n",
      "_________________________________________________________________\n",
      "lstm_7 (LSTM)                (None, 20)                41680     \n",
      "_________________________________________________________________\n",
      "dropout_17 (Dropout)         (None, 20)                0         \n",
      "_________________________________________________________________\n",
      "dense_12 (Dense)             (None, 50)                1050      \n",
      "_________________________________________________________________\n",
      "dropout_18 (Dropout)         (None, 50)                0         \n",
      "_________________________________________________________________\n",
      "dense_13 (Dense)             (None, 1)                 51        \n",
      "=================================================================\n",
      "Total params: 5,042,781\n",
      "Trainable params: 5,042,781\n",
      "Non-trainable params: 0\n",
      "_________________________________________________________________\n"
     ]
    }
   ],
   "source": [
    "model3 = Sequential()\n",
    "model3.add(Embedding(10000, 500))\n",
    "model3.add(Dropout(0.5))\n",
    "model3.add(LSTM(20))\n",
    "model3.add(Dropout(0.5))\n",
    "model3.add(Dense(50, activation='relu'))\n",
    "model3.add(Dropout(0.5))\n",
    "model3.add(Dense(1, activation='sigmoid'))\n",
    "model3.compile(loss='binary_crossentropy',optimizer='adam',metrics=['accuracy'])\n",
    "model3.summary()"
   ]
  },
  {
   "cell_type": "code",
   "execution_count": 30,
   "metadata": {},
   "outputs": [
    {
     "name": "stdout",
     "output_type": "stream",
     "text": [
      "Train on 25000 samples, validate on 25000 samples\n",
      "Epoch 1/5\n",
      "25000/25000 [==============================] - 1141s 46ms/step - loss: 0.4404 - acc: 0.8032 - val_loss: 0.3120 - val_acc: 0.8726\n",
      "Epoch 2/5\n",
      "25000/25000 [==============================] - 744s 30ms/step - loss: 0.2637 - acc: 0.9058 - val_loss: 0.3300 - val_acc: 0.8622\n",
      "Epoch 00002: early stopping\n"
     ]
    }
   ],
   "source": [
    "EarlyStop = EarlyStopping(monitor='val_loss',verbose=2,patience=1)\n",
    "model_out3=model3.fit(x_train, y_train,batch_size=32,epochs=5,validation_data = (x_test,y_test),callbacks=[EarlyStop])"
   ]
  },
  {
   "cell_type": "markdown",
   "metadata": {},
   "source": [
    "### *增加了LSTM和Relu的Dense雖然很快就達到87%，但是還是有overfitting的存在。覺得LSTM數量越多，越容易產生 overfitting"
   ]
  },
  {
   "cell_type": "code",
   "execution_count": 31,
   "metadata": {},
   "outputs": [
    {
     "name": "stdout",
     "output_type": "stream",
     "text": [
      "25000/25000 [==============================] - 117s 5ms/step\n",
      "25000/25000 [==============================] - 115s 5ms/step\n",
      "25000/25000 [==============================] - 116s 5ms/step\n"
     ]
    }
   ],
   "source": [
    "score_2 = model3.evaluate(x_test, y_test)\n",
    "score = model.evaluate(x_test, y_test)\n",
    "score_1 = model2.evaluate(x_test, y_test)"
   ]
  },
  {
   "cell_type": "code",
   "execution_count": 32,
   "metadata": {},
   "outputs": [
    {
     "data": {
      "image/png": "[encoded data removed]",
      "text/plain": [
       "<Figure size 432x288 with 1 Axes>"
      ]
     },
     "metadata": {},
     "output_type": "display_data"
    }
   ],
   "source": [
    "plt.plot(model_out1.history[\"acc\"])\n",
    "plt.plot(model_out2.history[\"acc\"])\n",
    "plt.plot(model_out3.history[\"acc\"])\n",
    "\n",
    "plt.title(\"model training accuracy\")\n",
    "plt.ylabel(\"accuracy\")\n",
    "plt.xlabel(\"epoch\")\n",
    "plt.legend([\"Model_1\",\"Model_2\",\"Model_3\",\"Model_4\"],loc=\"best\")\n",
    "plt.show()"
   ]
  },
  {
   "cell_type": "code",
   "execution_count": 33,
   "metadata": {},
   "outputs": [
    {
     "data": {
      "image/png": "[encoded data removed]",
      "text/plain": [
       "<Figure size 432x288 with 1 Axes>"
      ]
     },
     "metadata": {},
     "output_type": "display_data"
    }
   ],
   "source": [
    "plt.plot(model_out1.history[\"val_loss\"])\n",
    "plt.plot(model_out2.history[\"val_loss\"])\n",
    "plt.plot(model_out3.history[\"val_loss\"])\n",
    "\n",
    "plt.title(\"model validation loss\")\n",
    "plt.ylabel(\"loss\")\n",
    "plt.xlabel(\"epoch\")\n",
    "plt.legend([\"Model_1\",\"Model_2\",\"Model_3\",\"Model_4\"],loc=\"best\")\n",
    "plt.show()"
   ]
  },
  {
   "cell_type": "code",
   "execution_count": 34,
   "metadata": {},
   "outputs": [
    {
     "name": "stdout",
     "output_type": "stream",
     "text": [
      "Model_1測試資料的 loss: 0.6292035572433472\n",
      "Model_1測試資料正確率: 0.78116\n",
      "Model_2測試資料的 loss: 0.3184727276945114\n",
      "Model_2測試資料正確率: 0.8742\n",
      "Model_3測試資料的 loss: 0.3299627842998505\n",
      "Model_3測試資料正確率: 0.86216\n"
     ]
    }
   ],
   "source": [
    "print('Model_1測試資料的 loss:', score[0])\n",
    "print('Model_1測試資料正確率:', score[1])\n",
    "print('Model_2測試資料的 loss:', score_1[0])\n",
    "print('Model_2測試資料正確率:', score_1[1])\n",
    "print('Model_3測試資料的 loss:', score_2[0])\n",
    "print('Model_3測試資料正確率:', score_2[1])\n"
   ]
  },
  {
   "cell_type": "markdown",
   "metadata": {},
   "source": [
    "# 結論\n",
    "\n",
    "### 一開始測試的Model容易會卡在86%造成overfitting，後來多次測試才發現，雖然LSTM的多寡會造成overfitting，但maxlen的關係也很重要。\n",
    "### 所以LSTM盡量少，maxlen盡量多，而batch_size不要超過50(雖然會跑到天荒地老)。"
   ]
  }
 ],
 "metadata": {
  "kernelspec": {
   "display_name": "Python 3",
   "language": "python",
   "name": "python3"
  },
  "language_info": {
   "codemirror_mode": {
    "name": "ipython",
    "version": 3
   },
   "file_extension": ".py",
   "mimetype": "text/x-python",
   "name": "python",
   "nbconvert_exporter": "python",
   "pygments_lexer": "ipython3",
   "version": "3.6.5"
  }
 },
 "nbformat": 4,
 "nbformat_minor": 2
}

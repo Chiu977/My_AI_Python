{
 "cells": [
  {
   "cell_type": "code",
   "execution_count": 53,
   "metadata": {},
   "outputs": [
    {
     "name": "stdout",
     "output_type": "stream",
     "text": [
      "env: KERAS_BACKEND=tensorflow\n"
     ]
    }
   ],
   "source": [
    "%env KERAS_BACKEND=tensorflow"
   ]
  },
  {
   "cell_type": "code",
   "execution_count": 139,
   "metadata": {},
   "outputs": [],
   "source": [
    "%matplotlib inline\n",
    "import numpy as np\n",
    "import matplotlib.pyplot as plt\n",
    "from keras.datasets import mnist\n",
    "from ipywidgets import interact_manual"
   ]
  },
  {
   "cell_type": "markdown",
   "metadata": {},
   "source": [
    "# 1. 讀取資料&做資料處理"
   ]
  },
  {
   "cell_type": "code",
   "execution_count": 55,
   "metadata": {},
   "outputs": [],
   "source": [
    "(x_train, y_train), (x_test, y_test) = mnist.load_data()"
   ]
  },
  {
   "cell_type": "code",
   "execution_count": 56,
   "metadata": {},
   "outputs": [],
   "source": [
    "x_train = x_train.reshape(60000, 784)\n",
    "x_test = x_test.reshape(10000, 784)"
   ]
  },
  {
   "cell_type": "code",
   "execution_count": 57,
   "metadata": {},
   "outputs": [],
   "source": [
    "from keras.utils import np_utils"
   ]
  },
  {
   "cell_type": "code",
   "execution_count": 58,
   "metadata": {},
   "outputs": [],
   "source": [
    "y_train = np_utils.to_categorical(y_train,10)\n",
    "y_test = np_utils.to_categorical(y_test,10)"
   ]
  },
  {
   "cell_type": "code",
   "execution_count": 59,
   "metadata": {},
   "outputs": [],
   "source": [
    "from keras.models import Sequential\n",
    "from keras.layers import Dense, Activation\n",
    "from keras.optimizers import SGD\n",
    "from keras.optimizers import Adadelta\n",
    "#from keras.optimizers import Adagrad"
   ]
  },
  {
   "cell_type": "markdown",
   "metadata": {},
   "source": [
    "# 2. 老師的Model\n",
    "\n",
    "### 正確率只有30%"
   ]
  },
  {
   "cell_type": "code",
   "execution_count": 60,
   "metadata": {},
   "outputs": [
    {
     "name": "stdout",
     "output_type": "stream",
     "text": [
      "_________________________________________________________________\n",
      "Layer (type)                 Output Shape              Param #   \n",
      "=================================================================\n",
      "dense_50 (Dense)             (None, 4)                 3140      \n",
      "_________________________________________________________________\n",
      "activation_50 (Activation)   (None, 4)                 0         \n",
      "_________________________________________________________________\n",
      "dense_51 (Dense)             (None, 2)                 10        \n",
      "_________________________________________________________________\n",
      "activation_51 (Activation)   (None, 2)                 0         \n",
      "_________________________________________________________________\n",
      "dense_52 (Dense)             (None, 10)                30        \n",
      "_________________________________________________________________\n",
      "activation_52 (Activation)   (None, 10)                0         \n",
      "=================================================================\n",
      "Total params: 3,180\n",
      "Trainable params: 3,180\n",
      "Non-trainable params: 0\n",
      "_________________________________________________________________\n"
     ]
    }
   ],
   "source": [
    "model_1 = Sequential()\n",
    "model_1.add(Dense(4, input_dim=784))\n",
    "model_1.add(Activation('sigmoid'))\n",
    "model_1.add(Dense(2))\n",
    "model_1.add(Activation('sigmoid'))\n",
    "model_1.add(Dense(10))\n",
    "model_1.add(Activation('softmax'))\n",
    "model_1.compile(loss='mse', optimizer=SGD(lr=0.087), metrics=['accuracy'])\n",
    "model_1.summary()"
   ]
  },
  {
   "cell_type": "code",
   "execution_count": 61,
   "metadata": {},
   "outputs": [
    {
     "name": "stdout",
     "output_type": "stream",
     "text": [
      "Train on 60000 samples, validate on 10000 samples\n",
      "Epoch 1/50\n",
      "60000/60000 [==============================] - 1s 22us/step - loss: 0.0896 - acc: 0.1609 - val_loss: 0.0893 - val_acc: 0.1875\n",
      "Epoch 2/50\n",
      "60000/60000 [==============================] - 1s 15us/step - loss: 0.0892 - acc: 0.1846 - val_loss: 0.0890 - val_acc: 0.1779\n",
      "Epoch 3/50\n",
      "60000/60000 [==============================] - 1s 15us/step - loss: 0.0890 - acc: 0.1768 - val_loss: 0.0888 - val_acc: 0.1796\n",
      "Epoch 4/50\n",
      "60000/60000 [==============================] - 1s 14us/step - loss: 0.0887 - acc: 0.1760 - val_loss: 0.0886 - val_acc: 0.1756\n",
      "Epoch 5/50\n",
      "60000/60000 [==============================] - 1s 14us/step - loss: 0.0886 - acc: 0.1722 - val_loss: 0.0884 - val_acc: 0.1767\n",
      "Epoch 6/50\n",
      "60000/60000 [==============================] - 1s 14us/step - loss: 0.0884 - acc: 0.1725 - val_loss: 0.0882 - val_acc: 0.1681\n",
      "Epoch 7/50\n",
      "60000/60000 [==============================] - 1s 14us/step - loss: 0.0882 - acc: 0.1707 - val_loss: 0.0880 - val_acc: 0.1698\n",
      "Epoch 8/50\n",
      "60000/60000 [==============================] - 1s 14us/step - loss: 0.0880 - acc: 0.2034 - val_loss: 0.0879 - val_acc: 0.2068\n",
      "Epoch 9/50\n",
      "60000/60000 [==============================] - 1s 15us/step - loss: 0.0878 - acc: 0.2055 - val_loss: 0.0877 - val_acc: 0.2062\n",
      "Epoch 10/50\n",
      "60000/60000 [==============================] - 1s 14us/step - loss: 0.0876 - acc: 0.2060 - val_loss: 0.0875 - val_acc: 0.2078\n",
      "Epoch 11/50\n",
      "60000/60000 [==============================] - 1s 15us/step - loss: 0.0874 - acc: 0.2068 - val_loss: 0.0873 - val_acc: 0.2077\n",
      "Epoch 12/50\n",
      "60000/60000 [==============================] - 1s 15us/step - loss: 0.0872 - acc: 0.2073 - val_loss: 0.0871 - val_acc: 0.2078\n",
      "Epoch 13/50\n",
      "60000/60000 [==============================] - 1s 14us/step - loss: 0.0870 - acc: 0.2073 - val_loss: 0.0868 - val_acc: 0.2080\n",
      "Epoch 14/50\n",
      "60000/60000 [==============================] - 1s 14us/step - loss: 0.0868 - acc: 0.2079 - val_loss: 0.0866 - val_acc: 0.2083\n",
      "Epoch 15/50\n",
      "60000/60000 [==============================] - 1s 14us/step - loss: 0.0865 - acc: 0.2083 - val_loss: 0.0864 - val_acc: 0.2084\n",
      "Epoch 16/50\n",
      "60000/60000 [==============================] - 1s 14us/step - loss: 0.0863 - acc: 0.2084 - val_loss: 0.0861 - val_acc: 0.2087\n",
      "Epoch 17/50\n",
      "60000/60000 [==============================] - 1s 14us/step - loss: 0.0860 - acc: 0.2089 - val_loss: 0.0858 - val_acc: 0.2093\n",
      "Epoch 18/50\n",
      "60000/60000 [==============================] - 1s 13us/step - loss: 0.0857 - acc: 0.2096 - val_loss: 0.0855 - val_acc: 0.2093\n",
      "Epoch 19/50\n",
      "60000/60000 [==============================] - 1s 14us/step - loss: 0.0855 - acc: 0.2098 - val_loss: 0.0852 - val_acc: 0.2096\n",
      "Epoch 20/50\n",
      "60000/60000 [==============================] - 1s 14us/step - loss: 0.0852 - acc: 0.2099 - val_loss: 0.0849 - val_acc: 0.2096\n",
      "Epoch 21/50\n",
      "60000/60000 [==============================] - 1s 14us/step - loss: 0.0849 - acc: 0.2101 - val_loss: 0.0846 - val_acc: 0.2094\n",
      "Epoch 22/50\n",
      "60000/60000 [==============================] - 1s 14us/step - loss: 0.0846 - acc: 0.2104 - val_loss: 0.0843 - val_acc: 0.2099\n",
      "Epoch 23/50\n",
      "60000/60000 [==============================] - 1s 14us/step - loss: 0.0843 - acc: 0.2109 - val_loss: 0.0840 - val_acc: 0.2100\n",
      "Epoch 24/50\n",
      "60000/60000 [==============================] - 1s 14us/step - loss: 0.0839 - acc: 0.2113 - val_loss: 0.0836 - val_acc: 0.2108\n",
      "Epoch 25/50\n",
      "60000/60000 [==============================] - 1s 14us/step - loss: 0.0835 - acc: 0.2115 - val_loss: 0.0833 - val_acc: 0.2106\n",
      "Epoch 26/50\n",
      "60000/60000 [==============================] - 1s 14us/step - loss: 0.0832 - acc: 0.2113 - val_loss: 0.0829 - val_acc: 0.2108\n",
      "Epoch 27/50\n",
      "60000/60000 [==============================] - 1s 14us/step - loss: 0.0828 - acc: 0.2114 - val_loss: 0.0826 - val_acc: 0.2109\n",
      "Epoch 28/50\n",
      "60000/60000 [==============================] - 1s 14us/step - loss: 0.0825 - acc: 0.2113 - val_loss: 0.0822 - val_acc: 0.2116\n",
      "Epoch 29/50\n",
      "60000/60000 [==============================] - 1s 14us/step - loss: 0.0822 - acc: 0.2114 - val_loss: 0.0819 - val_acc: 0.2112\n",
      "Epoch 30/50\n",
      "60000/60000 [==============================] - 1s 14us/step - loss: 0.0819 - acc: 0.2113 - val_loss: 0.0816 - val_acc: 0.2114\n",
      "Epoch 31/50\n",
      "60000/60000 [==============================] - ETA: 0s - loss: 0.0817 - acc: 0.211 - 1s 14us/step - loss: 0.0817 - acc: 0.2114 - val_loss: 0.0814 - val_acc: 0.2112\n",
      "Epoch 32/50\n",
      "60000/60000 [==============================] - 1s 14us/step - loss: 0.0814 - acc: 0.2111 - val_loss: 0.0811 - val_acc: 0.2109\n",
      "Epoch 33/50\n",
      "60000/60000 [==============================] - 1s 14us/step - loss: 0.0812 - acc: 0.2113 - val_loss: 0.0809 - val_acc: 0.2122\n",
      "Epoch 34/50\n",
      "60000/60000 [==============================] - 1s 14us/step - loss: 0.0810 - acc: 0.2113 - val_loss: 0.0807 - val_acc: 0.2112\n",
      "Epoch 35/50\n",
      "60000/60000 [==============================] - 1s 14us/step - loss: 0.0808 - acc: 0.2112 - val_loss: 0.0805 - val_acc: 0.2112\n",
      "Epoch 36/50\n",
      "60000/60000 [==============================] - 1s 14us/step - loss: 0.0806 - acc: 0.2113 - val_loss: 0.0803 - val_acc: 0.2116\n",
      "Epoch 37/50\n",
      "60000/60000 [==============================] - 1s 14us/step - loss: 0.0804 - acc: 0.2110 - val_loss: 0.0801 - val_acc: 0.2120\n",
      "Epoch 38/50\n",
      "60000/60000 [==============================] - 1s 14us/step - loss: 0.0802 - acc: 0.2117 - val_loss: 0.0799 - val_acc: 0.2118\n",
      "Epoch 39/50\n",
      "60000/60000 [==============================] - 1s 14us/step - loss: 0.0801 - acc: 0.2421 - val_loss: 0.0798 - val_acc: 0.2799\n",
      "Epoch 40/50\n",
      "60000/60000 [==============================] - 1s 14us/step - loss: 0.0799 - acc: 0.2810 - val_loss: 0.0796 - val_acc: 0.2834\n",
      "Epoch 41/50\n",
      "60000/60000 [==============================] - 1s 14us/step - loss: 0.0798 - acc: 0.2819 - val_loss: 0.0795 - val_acc: 0.2828\n",
      "Epoch 42/50\n",
      "60000/60000 [==============================] - 1s 14us/step - loss: 0.0796 - acc: 0.2817 - val_loss: 0.0794 - val_acc: 0.2852\n",
      "Epoch 43/50\n",
      "60000/60000 [==============================] - 1s 14us/step - loss: 0.0794 - acc: 0.2855 - val_loss: 0.0792 - val_acc: 0.2868\n",
      "Epoch 44/50\n",
      "60000/60000 [==============================] - 1s 14us/step - loss: 0.0793 - acc: 0.2863 - val_loss: 0.0790 - val_acc: 0.2889\n",
      "Epoch 45/50\n",
      "60000/60000 [==============================] - 1s 14us/step - loss: 0.0792 - acc: 0.2866 - val_loss: 0.0789 - val_acc: 0.2880\n",
      "Epoch 46/50\n",
      "60000/60000 [==============================] - 1s 14us/step - loss: 0.0790 - acc: 0.2870 - val_loss: 0.0789 - val_acc: 0.2872\n",
      "Epoch 47/50\n",
      "60000/60000 [==============================] - 1s 14us/step - loss: 0.0789 - acc: 0.2901 - val_loss: 0.0786 - val_acc: 0.2918\n",
      "Epoch 48/50\n",
      "60000/60000 [==============================] - 1s 14us/step - loss: 0.0787 - acc: 0.2896 - val_loss: 0.0785 - val_acc: 0.2876\n",
      "Epoch 49/50\n",
      "60000/60000 [==============================] - 1s 14us/step - loss: 0.0786 - acc: 0.2898 - val_loss: 0.0783 - val_acc: 0.2913\n",
      "Epoch 50/50\n",
      "60000/60000 [==============================] - 1s 14us/step - loss: 0.0785 - acc: 0.3259 - val_loss: 0.0782 - val_acc: 0.3738\n"
     ]
    }
   ],
   "source": [
    "model_1_out=model_1.fit(x_train, y_train, batch_size=100, epochs=50,verbose =1,validation_data = (x_test,y_test))"
   ]
  },
  {
   "cell_type": "markdown",
   "metadata": {},
   "source": [
    "# 3.把資料做正規化\n",
    "\n",
    "### 減少受到資料被極大值或極小質影響"
   ]
  },
  {
   "cell_type": "code",
   "execution_count": 62,
   "metadata": {},
   "outputs": [],
   "source": [
    "x_train_n = (x_train - x_train.min())/(x_train.max() - x_train.min())\n",
    "x_test_n = (x_test - x_test.min())/(x_test.max() - x_test.min())"
   ]
  },
  {
   "cell_type": "markdown",
   "metadata": {},
   "source": [
    "# 4.增加神經元 "
   ]
  },
  {
   "cell_type": "code",
   "execution_count": 88,
   "metadata": {},
   "outputs": [
    {
     "name": "stdout",
     "output_type": "stream",
     "text": [
      "_________________________________________________________________\n",
      "Layer (type)                 Output Shape              Param #   \n",
      "=================================================================\n",
      "dense_84 (Dense)             (None, 100)               78500     \n",
      "_________________________________________________________________\n",
      "activation_82 (Activation)   (None, 100)               0         \n",
      "_________________________________________________________________\n",
      "dense_85 (Dense)             (None, 50)                5050      \n",
      "_________________________________________________________________\n",
      "activation_83 (Activation)   (None, 50)                0         \n",
      "_________________________________________________________________\n",
      "dense_86 (Dense)             (None, 10)                510       \n",
      "_________________________________________________________________\n",
      "activation_84 (Activation)   (None, 10)                0         \n",
      "=================================================================\n",
      "Total params: 84,060\n",
      "Trainable params: 84,060\n",
      "Non-trainable params: 0\n",
      "_________________________________________________________________\n"
     ]
    }
   ],
   "source": [
    "model_2 = Sequential()\n",
    "model_2.add(Dense(100, input_dim=784))\n",
    "model_2.add(Activation('sigmoid'))\n",
    "model_2.add(Dense(50))\n",
    "model_2.add(Activation('sigmoid'))\n",
    "model_2.add(Dense(10))\n",
    "model_2.add(Activation('softmax'))\n",
    "model_2.compile(loss='mse', optimizer=SGD(lr=0.087), metrics=['accuracy'])\n",
    "model_2.summary()"
   ]
  },
  {
   "cell_type": "code",
   "execution_count": 89,
   "metadata": {},
   "outputs": [
    {
     "name": "stdout",
     "output_type": "stream",
     "text": [
      "Train on 60000 samples, validate on 10000 samples\n",
      "Epoch 1/50\n",
      "60000/60000 [==============================] - 2s 39us/step - loss: 0.0919 - acc: 0.1120 - val_loss: 0.0904 - val_acc: 0.1146\n",
      "Epoch 2/50\n",
      "60000/60000 [==============================] - 2s 29us/step - loss: 0.0900 - acc: 0.1182 - val_loss: 0.0898 - val_acc: 0.1217\n",
      "Epoch 3/50\n",
      "60000/60000 [==============================] - 2s 30us/step - loss: 0.0897 - acc: 0.1258 - val_loss: 0.0895 - val_acc: 0.1198\n",
      "Epoch 4/50\n",
      "60000/60000 [==============================] - 2s 29us/step - loss: 0.0894 - acc: 0.1309 - val_loss: 0.0893 - val_acc: 0.1293\n",
      "Epoch 5/50\n",
      "60000/60000 [==============================] - 2s 29us/step - loss: 0.0892 - acc: 0.1420 - val_loss: 0.0891 - val_acc: 0.1622\n",
      "Epoch 6/50\n",
      "60000/60000 [==============================] - 2s 31us/step - loss: 0.0890 - acc: 0.1788 - val_loss: 0.0888 - val_acc: 0.1882\n",
      "Epoch 7/50\n",
      "60000/60000 [==============================] - 2s 30us/step - loss: 0.0887 - acc: 0.2183 - val_loss: 0.0885 - val_acc: 0.2035\n",
      "Epoch 8/50\n",
      "60000/60000 [==============================] - 2s 28us/step - loss: 0.0884 - acc: 0.2367 - val_loss: 0.0882 - val_acc: 0.2540\n",
      "Epoch 9/50\n",
      "60000/60000 [==============================] - 2s 28us/step - loss: 0.0881 - acc: 0.2790 - val_loss: 0.0879 - val_acc: 0.2855\n",
      "Epoch 10/50\n",
      "60000/60000 [==============================] - 2s 28us/step - loss: 0.0878 - acc: 0.3036 - val_loss: 0.0875 - val_acc: 0.3114\n",
      "Epoch 11/50\n",
      "60000/60000 [==============================] - 2s 31us/step - loss: 0.0874 - acc: 0.3147 - val_loss: 0.0871 - val_acc: 0.3640\n",
      "Epoch 12/50\n",
      "60000/60000 [==============================] - 2s 30us/step - loss: 0.0869 - acc: 0.3503 - val_loss: 0.0866 - val_acc: 0.3642\n",
      "Epoch 13/50\n",
      "60000/60000 [==============================] - 2s 31us/step - loss: 0.0863 - acc: 0.3585 - val_loss: 0.0859 - val_acc: 0.3785\n",
      "Epoch 14/50\n",
      "60000/60000 [==============================] - 2s 29us/step - loss: 0.0857 - acc: 0.3695 - val_loss: 0.0852 - val_acc: 0.3923\n",
      "Epoch 15/50\n",
      "60000/60000 [==============================] - 2s 29us/step - loss: 0.0849 - acc: 0.3837 - val_loss: 0.0843 - val_acc: 0.3872\n",
      "Epoch 16/50\n",
      "60000/60000 [==============================] - 2s 28us/step - loss: 0.0839 - acc: 0.3846 - val_loss: 0.0831 - val_acc: 0.4061\n",
      "Epoch 17/50\n",
      "60000/60000 [==============================] - 2s 28us/step - loss: 0.0826 - acc: 0.3975 - val_loss: 0.0818 - val_acc: 0.4061\n",
      "Epoch 18/50\n",
      "60000/60000 [==============================] - 2s 29us/step - loss: 0.0812 - acc: 0.4107 - val_loss: 0.0802 - val_acc: 0.4090\n",
      "Epoch 19/50\n",
      "60000/60000 [==============================] - 2s 28us/step - loss: 0.0795 - acc: 0.4198 - val_loss: 0.0784 - val_acc: 0.4320\n",
      "Epoch 20/50\n",
      "60000/60000 [==============================] - 2s 28us/step - loss: 0.0777 - acc: 0.4420 - val_loss: 0.0766 - val_acc: 0.4475\n",
      "Epoch 21/50\n",
      "60000/60000 [==============================] - 2s 29us/step - loss: 0.0759 - acc: 0.4629 - val_loss: 0.0747 - val_acc: 0.4761\n",
      "Epoch 22/50\n",
      "60000/60000 [==============================] - 2s 29us/step - loss: 0.0740 - acc: 0.4914 - val_loss: 0.0728 - val_acc: 0.4952\n",
      "Epoch 23/50\n",
      "60000/60000 [==============================] - 2s 29us/step - loss: 0.0720 - acc: 0.5121 - val_loss: 0.0708 - val_acc: 0.5181\n",
      "Epoch 24/50\n",
      "60000/60000 [==============================] - 2s 29us/step - loss: 0.0700 - acc: 0.5292 - val_loss: 0.0687 - val_acc: 0.5395\n",
      "Epoch 25/50\n",
      "60000/60000 [==============================] - 2s 29us/step - loss: 0.0678 - acc: 0.5453 - val_loss: 0.0665 - val_acc: 0.5598\n",
      "Epoch 26/50\n",
      "60000/60000 [==============================] - 2s 29us/step - loss: 0.0656 - acc: 0.5621 - val_loss: 0.0642 - val_acc: 0.5735\n",
      "Epoch 27/50\n",
      "60000/60000 [==============================] - 2s 29us/step - loss: 0.0633 - acc: 0.5768 - val_loss: 0.0619 - val_acc: 0.5861\n",
      "Epoch 28/50\n",
      "60000/60000 [==============================] - 2s 29us/step - loss: 0.0610 - acc: 0.5907 - val_loss: 0.0596 - val_acc: 0.5994\n",
      "Epoch 29/50\n",
      "60000/60000 [==============================] - 2s 29us/step - loss: 0.0587 - acc: 0.6038 - val_loss: 0.0573 - val_acc: 0.6111\n",
      "Epoch 30/50\n",
      "60000/60000 [==============================] - 2s 30us/step - loss: 0.0565 - acc: 0.6189 - val_loss: 0.0552 - val_acc: 0.6211\n",
      "Epoch 31/50\n",
      "60000/60000 [==============================] - 2s 30us/step - loss: 0.0544 - acc: 0.6331 - val_loss: 0.0531 - val_acc: 0.6392\n",
      "Epoch 32/50\n",
      "60000/60000 [==============================] - 2s 28us/step - loss: 0.0523 - acc: 0.6483 - val_loss: 0.0511 - val_acc: 0.6535\n",
      "Epoch 33/50\n",
      "60000/60000 [==============================] - 2s 29us/step - loss: 0.0504 - acc: 0.6651 - val_loss: 0.0492 - val_acc: 0.6700\n",
      "Epoch 34/50\n",
      "60000/60000 [==============================] - 2s 30us/step - loss: 0.0486 - acc: 0.6801 - val_loss: 0.0474 - val_acc: 0.6894\n",
      "Epoch 35/50\n",
      "60000/60000 [==============================] - 2s 30us/step - loss: 0.0469 - acc: 0.6953 - val_loss: 0.0457 - val_acc: 0.7035\n",
      "Epoch 36/50\n",
      "60000/60000 [==============================] - 2s 32us/step - loss: 0.0452 - acc: 0.7113 - val_loss: 0.0441 - val_acc: 0.7140\n",
      "Epoch 37/50\n",
      "60000/60000 [==============================] - 2s 31us/step - loss: 0.0437 - acc: 0.7226 - val_loss: 0.0426 - val_acc: 0.7330\n",
      "Epoch 38/50\n",
      "60000/60000 [==============================] - 2s 30us/step - loss: 0.0422 - acc: 0.7366 - val_loss: 0.0411 - val_acc: 0.7436\n",
      "Epoch 39/50\n",
      "60000/60000 [==============================] - 2s 29us/step - loss: 0.0408 - acc: 0.7475 - val_loss: 0.0398 - val_acc: 0.7533\n",
      "Epoch 40/50\n",
      "60000/60000 [==============================] - 2s 28us/step - loss: 0.0395 - acc: 0.7562 - val_loss: 0.0385 - val_acc: 0.7693\n",
      "Epoch 41/50\n",
      "60000/60000 [==============================] - 2s 28us/step - loss: 0.0382 - acc: 0.7685 - val_loss: 0.0372 - val_acc: 0.7779\n",
      "Epoch 42/50\n",
      "60000/60000 [==============================] - 2s 31us/step - loss: 0.0371 - acc: 0.7784 - val_loss: 0.0361 - val_acc: 0.7844\n",
      "Epoch 43/50\n",
      "60000/60000 [==============================] - 2s 31us/step - loss: 0.0359 - acc: 0.7870 - val_loss: 0.0349 - val_acc: 0.7966\n",
      "Epoch 44/50\n",
      "60000/60000 [==============================] - 2s 30us/step - loss: 0.0348 - acc: 0.7961 - val_loss: 0.0338 - val_acc: 0.8080\n",
      "Epoch 45/50\n",
      "60000/60000 [==============================] - 2s 31us/step - loss: 0.0338 - acc: 0.8063 - val_loss: 0.0328 - val_acc: 0.8124\n",
      "Epoch 46/50\n",
      "60000/60000 [==============================] - 2s 30us/step - loss: 0.0328 - acc: 0.8127 - val_loss: 0.0318 - val_acc: 0.8227\n",
      "Epoch 47/50\n",
      "60000/60000 [==============================] - 2s 30us/step - loss: 0.0319 - acc: 0.8216 - val_loss: 0.0309 - val_acc: 0.8307\n",
      "Epoch 48/50\n",
      "60000/60000 [==============================] - 2s 31us/step - loss: 0.0310 - acc: 0.8279 - val_loss: 0.0300 - val_acc: 0.8386\n",
      "Epoch 49/50\n",
      "60000/60000 [==============================] - 2s 30us/step - loss: 0.0302 - acc: 0.8350 - val_loss: 0.0292 - val_acc: 0.8425\n",
      "Epoch 50/50\n",
      "60000/60000 [==============================] - 2s 31us/step - loss: 0.0294 - acc: 0.8398 - val_loss: 0.0284 - val_acc: 0.8477\n"
     ]
    }
   ],
   "source": [
    "model_2_out=model_2.fit(x_train_n, y_train, batch_size=100, epochs=50,verbose =1,validation_data = (x_test_n,y_test))"
   ]
  },
  {
   "cell_type": "markdown",
   "metadata": {},
   "source": [
    "# 5. 神經元大幅提升至300，Hidden Layer 增加成三層"
   ]
  },
  {
   "cell_type": "code",
   "execution_count": 90,
   "metadata": {},
   "outputs": [
    {
     "name": "stdout",
     "output_type": "stream",
     "text": [
      "_________________________________________________________________\n",
      "Layer (type)                 Output Shape              Param #   \n",
      "=================================================================\n",
      "dense_87 (Dense)             (None, 300)               235500    \n",
      "_________________________________________________________________\n",
      "activation_85 (Activation)   (None, 300)               0         \n",
      "_________________________________________________________________\n",
      "dense_88 (Dense)             (None, 50)                15050     \n",
      "_________________________________________________________________\n",
      "activation_86 (Activation)   (None, 50)                0         \n",
      "_________________________________________________________________\n",
      "dense_89 (Dense)             (None, 20)                1020      \n",
      "_________________________________________________________________\n",
      "activation_87 (Activation)   (None, 20)                0         \n",
      "_________________________________________________________________\n",
      "dense_90 (Dense)             (None, 10)                210       \n",
      "_________________________________________________________________\n",
      "activation_88 (Activation)   (None, 10)                0         \n",
      "=================================================================\n",
      "Total params: 251,780\n",
      "Trainable params: 251,780\n",
      "Non-trainable params: 0\n",
      "_________________________________________________________________\n"
     ]
    }
   ],
   "source": [
    "model_3 = Sequential()\n",
    "model_3.add(Dense(300, input_dim=784))\n",
    "model_3.add(Activation('sigmoid'))\n",
    "model_3.add(Dense(50))\n",
    "model_3.add(Activation('sigmoid'))\n",
    "model_3.add(Dense(20))\n",
    "model_3.add(Activation('sigmoid'))\n",
    "model_3.add(Dense(10))\n",
    "model_3.add(Activation('softmax'))\n",
    "model_3.compile(loss='mse', optimizer=SGD(lr=0.087), metrics=['accuracy'])\n",
    "model_3.summary()"
   ]
  },
  {
   "cell_type": "code",
   "execution_count": 91,
   "metadata": {},
   "outputs": [
    {
     "name": "stdout",
     "output_type": "stream",
     "text": [
      "Train on 60000 samples, validate on 10000 samples\n",
      "Epoch 1/50\n",
      "60000/60000 [==============================] - 4s 63us/step - loss: 0.0908 - acc: 0.1197 - val_loss: 0.0903 - val_acc: 0.1160\n",
      "Epoch 2/50\n",
      "60000/60000 [==============================] - 3s 52us/step - loss: 0.0902 - acc: 0.1126 - val_loss: 0.0900 - val_acc: 0.1135\n",
      "Epoch 3/50\n",
      "60000/60000 [==============================] - 3s 52us/step - loss: 0.0900 - acc: 0.1124 - val_loss: 0.0899 - val_acc: 0.1135\n",
      "Epoch 4/50\n",
      "60000/60000 [==============================] - 3s 52us/step - loss: 0.0899 - acc: 0.1124 - val_loss: 0.0899 - val_acc: 0.1135\n",
      "Epoch 5/50\n",
      "60000/60000 [==============================] - 3s 52us/step - loss: 0.0899 - acc: 0.1124 - val_loss: 0.0899 - val_acc: 0.1135\n",
      "Epoch 6/50\n",
      "60000/60000 [==============================] - 3s 52us/step - loss: 0.0899 - acc: 0.1124 - val_loss: 0.0898 - val_acc: 0.1135\n",
      "Epoch 7/50\n",
      "60000/60000 [==============================] - 3s 53us/step - loss: 0.0898 - acc: 0.1124 - val_loss: 0.0898 - val_acc: 0.1135\n",
      "Epoch 8/50\n",
      "60000/60000 [==============================] - 3s 52us/step - loss: 0.0898 - acc: 0.1124 - val_loss: 0.0898 - val_acc: 0.1135\n",
      "Epoch 9/50\n",
      "60000/60000 [==============================] - 3s 53us/step - loss: 0.0898 - acc: 0.1124 - val_loss: 0.0898 - val_acc: 0.1135\n",
      "Epoch 10/50\n",
      "60000/60000 [==============================] - 3s 53us/step - loss: 0.0898 - acc: 0.1124 - val_loss: 0.0898 - val_acc: 0.1135\n",
      "Epoch 11/50\n",
      "60000/60000 [==============================] - 3s 53us/step - loss: 0.0898 - acc: 0.1124 - val_loss: 0.0897 - val_acc: 0.1135\n",
      "Epoch 12/50\n",
      "60000/60000 [==============================] - 3s 54us/step - loss: 0.0897 - acc: 0.1124 - val_loss: 0.0897 - val_acc: 0.1135\n",
      "Epoch 13/50\n",
      "60000/60000 [==============================] - 3s 54us/step - loss: 0.0897 - acc: 0.1124 - val_loss: 0.0897 - val_acc: 0.1135\n",
      "Epoch 14/50\n",
      "60000/60000 [==============================] - 3s 55us/step - loss: 0.0897 - acc: 0.1124 - val_loss: 0.0897 - val_acc: 0.1135\n",
      "Epoch 15/50\n",
      "60000/60000 [==============================] - 3s 55us/step - loss: 0.0897 - acc: 0.1124 - val_loss: 0.0896 - val_acc: 0.1135\n",
      "Epoch 16/50\n",
      "60000/60000 [==============================] - 3s 56us/step - loss: 0.0896 - acc: 0.1124 - val_loss: 0.0896 - val_acc: 0.1135\n",
      "Epoch 17/50\n",
      "60000/60000 [==============================] - 3s 58us/step - loss: 0.0896 - acc: 0.1124 - val_loss: 0.0896 - val_acc: 0.1135\n",
      "Epoch 18/50\n",
      "60000/60000 [==============================] - 4s 62us/step - loss: 0.0896 - acc: 0.1124 - val_loss: 0.0896 - val_acc: 0.1135\n",
      "Epoch 19/50\n",
      "60000/60000 [==============================] - 3s 57us/step - loss: 0.0896 - acc: 0.1124 - val_loss: 0.0895 - val_acc: 0.1136\n",
      "Epoch 20/50\n",
      "60000/60000 [==============================] - 3s 56us/step - loss: 0.0895 - acc: 0.1125 - val_loss: 0.0895 - val_acc: 0.1138\n",
      "Epoch 21/50\n",
      "60000/60000 [==============================] - 3s 54us/step - loss: 0.0895 - acc: 0.1126 - val_loss: 0.0895 - val_acc: 0.1156\n",
      "Epoch 22/50\n",
      "60000/60000 [==============================] - 3s 54us/step - loss: 0.0895 - acc: 0.1146 - val_loss: 0.0894 - val_acc: 0.1163\n",
      "Epoch 23/50\n",
      "60000/60000 [==============================] - 3s 55us/step - loss: 0.0894 - acc: 0.1158 - val_loss: 0.0894 - val_acc: 0.1186\n",
      "Epoch 24/50\n",
      "60000/60000 [==============================] - 3s 54us/step - loss: 0.0894 - acc: 0.1195 - val_loss: 0.0894 - val_acc: 0.1242\n",
      "Epoch 25/50\n",
      "60000/60000 [==============================] - 3s 52us/step - loss: 0.0894 - acc: 0.1231 - val_loss: 0.0893 - val_acc: 0.1307\n",
      "Epoch 26/50\n",
      "60000/60000 [==============================] - 3s 56us/step - loss: 0.0893 - acc: 0.1301 - val_loss: 0.0893 - val_acc: 0.1372\n",
      "Epoch 27/50\n",
      "60000/60000 [==============================] - 3s 54us/step - loss: 0.0893 - acc: 0.1406 - val_loss: 0.0893 - val_acc: 0.1421\n",
      "Epoch 28/50\n",
      "60000/60000 [==============================] - 3s 56us/step - loss: 0.0893 - acc: 0.1425 - val_loss: 0.0892 - val_acc: 0.1540\n",
      "Epoch 29/50\n",
      "60000/60000 [==============================] - 3s 55us/step - loss: 0.0892 - acc: 0.1521 - val_loss: 0.0892 - val_acc: 0.1662\n",
      "Epoch 30/50\n",
      "60000/60000 [==============================] - 3s 52us/step - loss: 0.0892 - acc: 0.1700 - val_loss: 0.0891 - val_acc: 0.1671\n",
      "Epoch 31/50\n",
      "60000/60000 [==============================] - 3s 52us/step - loss: 0.0891 - acc: 0.1703 - val_loss: 0.0890 - val_acc: 0.1773\n",
      "Epoch 32/50\n",
      "60000/60000 [==============================] - 3s 52us/step - loss: 0.0890 - acc: 0.1746 - val_loss: 0.0890 - val_acc: 0.1898\n",
      "Epoch 33/50\n",
      "60000/60000 [==============================] - 3s 52us/step - loss: 0.0890 - acc: 0.1896 - val_loss: 0.0889 - val_acc: 0.1915\n",
      "Epoch 34/50\n",
      "60000/60000 [==============================] - 3s 51us/step - loss: 0.0889 - acc: 0.1889 - val_loss: 0.0888 - val_acc: 0.2033\n",
      "Epoch 35/50\n",
      "60000/60000 [==============================] - 3s 56us/step - loss: 0.0888 - acc: 0.1981 - val_loss: 0.0888 - val_acc: 0.2045\n",
      "Epoch 36/50\n",
      "60000/60000 [==============================] - 3s 56us/step - loss: 0.0888 - acc: 0.2002 - val_loss: 0.0887 - val_acc: 0.2090\n",
      "Epoch 37/50\n",
      "60000/60000 [==============================] - 3s 54us/step - loss: 0.0887 - acc: 0.2048 - val_loss: 0.0886 - val_acc: 0.2096\n",
      "Epoch 38/50\n",
      "60000/60000 [==============================] - 3s 52us/step - loss: 0.0886 - acc: 0.2094 - val_loss: 0.0885 - val_acc: 0.2066\n",
      "Epoch 39/50\n",
      "60000/60000 [==============================] - 3s 52us/step - loss: 0.0885 - acc: 0.2068 - val_loss: 0.0884 - val_acc: 0.2080\n",
      "Epoch 40/50\n",
      "60000/60000 [==============================] - 3s 52us/step - loss: 0.0884 - acc: 0.2093 - val_loss: 0.0882 - val_acc: 0.2066\n",
      "Epoch 41/50\n",
      "60000/60000 [==============================] - 3s 55us/step - loss: 0.0882 - acc: 0.2060 - val_loss: 0.0881 - val_acc: 0.2093\n",
      "Epoch 42/50\n",
      "60000/60000 [==============================] - 3s 55us/step - loss: 0.0881 - acc: 0.2071 - val_loss: 0.0879 - val_acc: 0.2094\n",
      "Epoch 43/50\n",
      "60000/60000 [==============================] - 3s 55us/step - loss: 0.0879 - acc: 0.2079 - val_loss: 0.0877 - val_acc: 0.2088\n",
      "Epoch 44/50\n",
      "60000/60000 [==============================] - 3s 56us/step - loss: 0.0877 - acc: 0.2077 - val_loss: 0.0875 - val_acc: 0.2091\n",
      "Epoch 45/50\n",
      "60000/60000 [==============================] - 3s 55us/step - loss: 0.0875 - acc: 0.2081 - val_loss: 0.0873 - val_acc: 0.2095\n",
      "Epoch 46/50\n",
      "60000/60000 [==============================] - 3s 56us/step - loss: 0.0873 - acc: 0.2087 - val_loss: 0.0870 - val_acc: 0.2095\n",
      "Epoch 47/50\n",
      "60000/60000 [==============================] - 3s 52us/step - loss: 0.0870 - acc: 0.2087 - val_loss: 0.0867 - val_acc: 0.2100\n",
      "Epoch 48/50\n",
      "60000/60000 [==============================] - 3s 52us/step - loss: 0.0867 - acc: 0.2092 - val_loss: 0.0864 - val_acc: 0.2101\n",
      "Epoch 49/50\n",
      "60000/60000 [==============================] - 3s 53us/step - loss: 0.0863 - acc: 0.2095 - val_loss: 0.0860 - val_acc: 0.2100\n",
      "Epoch 50/50\n",
      "60000/60000 [==============================] - 3s 56us/step - loss: 0.0859 - acc: 0.2096 - val_loss: 0.0855 - val_acc: 0.2100\n"
     ]
    }
   ],
   "source": [
    "model_3_out=model_3.fit(x_train_n, y_train, batch_size=100, epochs=50,verbose =1,validation_data = (x_test_n,y_test))"
   ]
  },
  {
   "cell_type": "markdown",
   "metadata": {},
   "source": [
    "# 6. 畫圖比較\n",
    "\n",
    "### 發現神經元提升至100，準確率有提高，且也有受到正規化的影響也提升正確率。但再增加神經元和增加層數卻沒有提高。"
   ]
  },
  {
   "cell_type": "code",
   "execution_count": 116,
   "metadata": {},
   "outputs": [
    {
     "data": {
      "image/png": "[encoded data removed]",
      "text/plain": [
       "<Figure size 432x288 with 1 Axes>"
      ]
     },
     "metadata": {},
     "output_type": "display_data"
    }
   ],
   "source": [
    "plt.plot(model_1_out.history[\"acc\"])\n",
    "plt.plot(model_2_out.history[\"acc\"])\n",
    "plt.plot(model_3_out.history[\"acc\"])\n",
    "\n",
    "plt.title(\"model training accuracy\")\n",
    "plt.ylabel(\"accuracy\")\n",
    "plt.xlabel(\"epoch\")\n",
    "plt.legend([\"30%Model\",\"2_Hidden Layer\",\"3_Hidden Layer\"],loc=\"best\")\n",
    "plt.show()"
   ]
  },
  {
   "cell_type": "code",
   "execution_count": 117,
   "metadata": {},
   "outputs": [
    {
     "data": {
      "image/png": "[encoded data removed]",
      "text/plain": [
       "<Figure size 432x288 with 1 Axes>"
      ]
     },
     "metadata": {},
     "output_type": "display_data"
    }
   ],
   "source": [
    "plt.plot(model_1_out.history[\"val_loss\"])\n",
    "plt.plot(model_2_out.history[\"val_loss\"])\n",
    "plt.plot(model_3_out.history[\"val_loss\"])\n",
    "\n",
    "plt.title(\"model validation loss\")\n",
    "plt.ylabel(\"loss\")\n",
    "plt.xlabel(\"epoch\")\n",
    "plt.legend([\"30%Model\",\"2_Hidden Layer\",\"3_Hidden Layer\"],loc=\"best\")\n",
    "plt.show()"
   ]
  },
  {
   "cell_type": "markdown",
   "metadata": {},
   "source": [
    "# 7. 激發函數換成Relu"
   ]
  },
  {
   "cell_type": "code",
   "execution_count": 94,
   "metadata": {},
   "outputs": [
    {
     "name": "stdout",
     "output_type": "stream",
     "text": [
      "_________________________________________________________________\n",
      "Layer (type)                 Output Shape              Param #   \n",
      "=================================================================\n",
      "dense_91 (Dense)             (None, 100)               78500     \n",
      "_________________________________________________________________\n",
      "activation_89 (Activation)   (None, 100)               0         \n",
      "_________________________________________________________________\n",
      "dense_92 (Dense)             (None, 50)                5050      \n",
      "_________________________________________________________________\n",
      "activation_90 (Activation)   (None, 50)                0         \n",
      "_________________________________________________________________\n",
      "dense_93 (Dense)             (None, 20)                1020      \n",
      "_________________________________________________________________\n",
      "activation_91 (Activation)   (None, 20)                0         \n",
      "_________________________________________________________________\n",
      "dense_94 (Dense)             (None, 10)                210       \n",
      "_________________________________________________________________\n",
      "activation_92 (Activation)   (None, 10)                0         \n",
      "=================================================================\n",
      "Total params: 84,780\n",
      "Trainable params: 84,780\n",
      "Non-trainable params: 0\n",
      "_________________________________________________________________\n"
     ]
    }
   ],
   "source": [
    "model_4 = Sequential()\n",
    "model_4.add(Dense(100, input_dim=784))\n",
    "model_4.add(Activation('relu'))\n",
    "model_4.add(Dense(50))\n",
    "model_4.add(Activation('relu'))\n",
    "model_4.add(Dense(20))\n",
    "model_4.add(Activation('relu'))\n",
    "model_4.add(Dense(10))\n",
    "model_4.add(Activation('softmax'))\n",
    "model_4.compile(loss='mse', optimizer=SGD(lr=0.087), metrics=['accuracy'])\n",
    "model_4.summary()"
   ]
  },
  {
   "cell_type": "code",
   "execution_count": 95,
   "metadata": {},
   "outputs": [
    {
     "name": "stdout",
     "output_type": "stream",
     "text": [
      "Train on 60000 samples, validate on 10000 samples\n",
      "Epoch 1/50\n",
      "60000/60000 [==============================] - 2s 38us/step - loss: 0.0879 - acc: 0.1839 - val_loss: 0.0844 - val_acc: 0.3647\n",
      "Epoch 2/50\n",
      "60000/60000 [==============================] - 2s 30us/step - loss: 0.0740 - acc: 0.5084 - val_loss: 0.0594 - val_acc: 0.5835\n",
      "Epoch 3/50\n",
      "60000/60000 [==============================] - 2s 30us/step - loss: 0.0492 - acc: 0.6519 - val_loss: 0.0392 - val_acc: 0.7457\n",
      "Epoch 4/50\n",
      "60000/60000 [==============================] - 2s 28us/step - loss: 0.0330 - acc: 0.7868 - val_loss: 0.0267 - val_acc: 0.8439\n",
      "Epoch 5/50\n",
      "60000/60000 [==============================] - 2s 28us/step - loss: 0.0238 - acc: 0.8540 - val_loss: 0.0207 - val_acc: 0.8737\n",
      "Epoch 6/50\n",
      "60000/60000 [==============================] - 2s 28us/step - loss: 0.0197 - acc: 0.8762 - val_loss: 0.0179 - val_acc: 0.8876\n",
      "Epoch 7/50\n",
      "60000/60000 [==============================] - 2s 28us/step - loss: 0.0175 - acc: 0.8890 - val_loss: 0.0161 - val_acc: 0.8996\n",
      "Epoch 8/50\n",
      "60000/60000 [==============================] - 2s 28us/step - loss: 0.0160 - acc: 0.8978 - val_loss: 0.0150 - val_acc: 0.9055\n",
      "Epoch 9/50\n",
      "60000/60000 [==============================] - 2s 28us/step - loss: 0.0149 - acc: 0.9044 - val_loss: 0.0141 - val_acc: 0.9106\n",
      "Epoch 10/50\n",
      "60000/60000 [==============================] - 2s 28us/step - loss: 0.0141 - acc: 0.9100 - val_loss: 0.0134 - val_acc: 0.9145\n",
      "Epoch 11/50\n",
      "60000/60000 [==============================] - 2s 29us/step - loss: 0.0133 - acc: 0.9146 - val_loss: 0.0128 - val_acc: 0.9192\n",
      "Epoch 12/50\n",
      "60000/60000 [==============================] - 2s 30us/step - loss: 0.0127 - acc: 0.9188 - val_loss: 0.0122 - val_acc: 0.9199\n",
      "Epoch 13/50\n",
      "60000/60000 [==============================] - 2s 30us/step - loss: 0.0122 - acc: 0.9222 - val_loss: 0.0120 - val_acc: 0.9236\n",
      "Epoch 14/50\n",
      "60000/60000 [==============================] - 2s 30us/step - loss: 0.0117 - acc: 0.9257 - val_loss: 0.0114 - val_acc: 0.9258\n",
      "Epoch 15/50\n",
      "60000/60000 [==============================] - 2s 28us/step - loss: 0.0113 - acc: 0.9286 - val_loss: 0.0111 - val_acc: 0.9278\n",
      "Epoch 16/50\n",
      "60000/60000 [==============================] - 2s 29us/step - loss: 0.0109 - acc: 0.9310 - val_loss: 0.0108 - val_acc: 0.9304\n",
      "Epoch 17/50\n",
      "60000/60000 [==============================] - 2s 29us/step - loss: 0.0106 - acc: 0.9329 - val_loss: 0.0104 - val_acc: 0.9329\n",
      "Epoch 18/50\n",
      "60000/60000 [==============================] - 2s 29us/step - loss: 0.0102 - acc: 0.9356 - val_loss: 0.0101 - val_acc: 0.9350\n",
      "Epoch 19/50\n",
      "60000/60000 [==============================] - 2s 30us/step - loss: 0.0099 - acc: 0.9380 - val_loss: 0.0100 - val_acc: 0.9364\n",
      "Epoch 20/50\n",
      "60000/60000 [==============================] - 2s 29us/step - loss: 0.0096 - acc: 0.9392 - val_loss: 0.0097 - val_acc: 0.9376\n",
      "Epoch 21/50\n",
      "60000/60000 [==============================] - 2s 29us/step - loss: 0.0093 - acc: 0.9414 - val_loss: 0.0095 - val_acc: 0.9383\n",
      "Epoch 22/50\n",
      "60000/60000 [==============================] - 2s 29us/step - loss: 0.0091 - acc: 0.9430 - val_loss: 0.0093 - val_acc: 0.9401\n",
      "Epoch 23/50\n",
      "60000/60000 [==============================] - 2s 32us/step - loss: 0.0089 - acc: 0.9444 - val_loss: 0.0090 - val_acc: 0.9422\n",
      "Epoch 24/50\n",
      "60000/60000 [==============================] - 2s 32us/step - loss: 0.0086 - acc: 0.9459 - val_loss: 0.0088 - val_acc: 0.9433\n",
      "Epoch 25/50\n",
      "60000/60000 [==============================] - 2s 29us/step - loss: 0.0084 - acc: 0.9472 - val_loss: 0.0088 - val_acc: 0.9429\n",
      "Epoch 26/50\n",
      "60000/60000 [==============================] - 2s 29us/step - loss: 0.0082 - acc: 0.9489 - val_loss: 0.0086 - val_acc: 0.9448\n",
      "Epoch 27/50\n",
      "60000/60000 [==============================] - 2s 29us/step - loss: 0.0080 - acc: 0.9502 - val_loss: 0.0085 - val_acc: 0.9449\n",
      "Epoch 28/50\n",
      "60000/60000 [==============================] - 2s 28us/step - loss: 0.0079 - acc: 0.9511 - val_loss: 0.0082 - val_acc: 0.9461\n",
      "Epoch 29/50\n",
      "60000/60000 [==============================] - 2s 29us/step - loss: 0.0077 - acc: 0.9524 - val_loss: 0.0081 - val_acc: 0.9474\n",
      "Epoch 30/50\n",
      "60000/60000 [==============================] - 2s 29us/step - loss: 0.0075 - acc: 0.9532 - val_loss: 0.0080 - val_acc: 0.9479\n",
      "Epoch 31/50\n",
      "60000/60000 [==============================] - 2s 29us/step - loss: 0.0074 - acc: 0.9542 - val_loss: 0.0078 - val_acc: 0.9489\n",
      "Epoch 32/50\n",
      "60000/60000 [==============================] - 2s 29us/step - loss: 0.0072 - acc: 0.9551 - val_loss: 0.0077 - val_acc: 0.9498\n",
      "Epoch 33/50\n",
      "60000/60000 [==============================] - 2s 29us/step - loss: 0.0071 - acc: 0.9559 - val_loss: 0.0076 - val_acc: 0.9504\n",
      "Epoch 34/50\n",
      "60000/60000 [==============================] - 2s 28us/step - loss: 0.0069 - acc: 0.9570 - val_loss: 0.0075 - val_acc: 0.9514\n",
      "Epoch 35/50\n",
      "60000/60000 [==============================] - 2s 29us/step - loss: 0.0068 - acc: 0.9583 - val_loss: 0.0074 - val_acc: 0.9520\n",
      "Epoch 36/50\n",
      "60000/60000 [==============================] - 2s 29us/step - loss: 0.0067 - acc: 0.9592 - val_loss: 0.0073 - val_acc: 0.9524\n",
      "Epoch 37/50\n",
      "60000/60000 [==============================] - 2s 29us/step - loss: 0.0066 - acc: 0.9596 - val_loss: 0.0072 - val_acc: 0.9528\n",
      "Epoch 38/50\n",
      "60000/60000 [==============================] - 2s 29us/step - loss: 0.0064 - acc: 0.9605 - val_loss: 0.0071 - val_acc: 0.9530\n",
      "Epoch 39/50\n",
      "60000/60000 [==============================] - 2s 29us/step - loss: 0.0063 - acc: 0.9611 - val_loss: 0.0070 - val_acc: 0.9540\n",
      "Epoch 40/50\n",
      "60000/60000 [==============================] - 2s 29us/step - loss: 0.0062 - acc: 0.9619 - val_loss: 0.0069 - val_acc: 0.9549\n",
      "Epoch 41/50\n",
      "60000/60000 [==============================] - 2s 29us/step - loss: 0.0061 - acc: 0.9627 - val_loss: 0.0068 - val_acc: 0.9548\n",
      "Epoch 42/50\n",
      "60000/60000 [==============================] - 2s 29us/step - loss: 0.0060 - acc: 0.9631 - val_loss: 0.0067 - val_acc: 0.9557\n",
      "Epoch 43/50\n",
      "60000/60000 [==============================] - 2s 29us/step - loss: 0.0059 - acc: 0.9641 - val_loss: 0.0066 - val_acc: 0.9563\n",
      "Epoch 44/50\n",
      "60000/60000 [==============================] - 2s 29us/step - loss: 0.0058 - acc: 0.9646 - val_loss: 0.0067 - val_acc: 0.9557\n",
      "Epoch 45/50\n",
      "60000/60000 [==============================] - 2s 29us/step - loss: 0.0057 - acc: 0.9655 - val_loss: 0.0065 - val_acc: 0.9564\n",
      "Epoch 46/50\n",
      "60000/60000 [==============================] - 2s 29us/step - loss: 0.0056 - acc: 0.9660 - val_loss: 0.0065 - val_acc: 0.9564\n",
      "Epoch 47/50\n",
      "60000/60000 [==============================] - 2s 29us/step - loss: 0.0056 - acc: 0.9664 - val_loss: 0.0065 - val_acc: 0.9575\n",
      "Epoch 48/50\n",
      "60000/60000 [==============================] - 2s 29us/step - loss: 0.0055 - acc: 0.9672 - val_loss: 0.0063 - val_acc: 0.9571\n",
      "Epoch 49/50\n",
      "60000/60000 [==============================] - 2s 29us/step - loss: 0.0054 - acc: 0.9677 - val_loss: 0.0063 - val_acc: 0.9578\n",
      "Epoch 50/50\n",
      "60000/60000 [==============================] - 2s 30us/step - loss: 0.0053 - acc: 0.9678 - val_loss: 0.0063 - val_acc: 0.9579\n"
     ]
    }
   ],
   "source": [
    "model_4_out=model_4.fit(x_train_n, y_train, batch_size=100, epochs=50,verbose =1,validation_data = (x_test_n,y_test))"
   ]
  },
  {
   "cell_type": "markdown",
   "metadata": {},
   "source": [
    "# 8. 激發函數換成Tanh"
   ]
  },
  {
   "cell_type": "code",
   "execution_count": 96,
   "metadata": {},
   "outputs": [
    {
     "name": "stdout",
     "output_type": "stream",
     "text": [
      "_________________________________________________________________\n",
      "Layer (type)                 Output Shape              Param #   \n",
      "=================================================================\n",
      "dense_95 (Dense)             (None, 100)               78500     \n",
      "_________________________________________________________________\n",
      "activation_93 (Activation)   (None, 100)               0         \n",
      "_________________________________________________________________\n",
      "dense_96 (Dense)             (None, 50)                5050      \n",
      "_________________________________________________________________\n",
      "activation_94 (Activation)   (None, 50)                0         \n",
      "_________________________________________________________________\n",
      "dense_97 (Dense)             (None, 20)                1020      \n",
      "_________________________________________________________________\n",
      "activation_95 (Activation)   (None, 20)                0         \n",
      "_________________________________________________________________\n",
      "dense_98 (Dense)             (None, 10)                210       \n",
      "_________________________________________________________________\n",
      "activation_96 (Activation)   (None, 10)                0         \n",
      "=================================================================\n",
      "Total params: 84,780\n",
      "Trainable params: 84,780\n",
      "Non-trainable params: 0\n",
      "_________________________________________________________________\n"
     ]
    }
   ],
   "source": [
    "model_5 = Sequential()\n",
    "model_5.add(Dense(100, input_dim=784))\n",
    "model_5.add(Activation('tanh'))\n",
    "model_5.add(Dense(50))\n",
    "model_5.add(Activation('tanh'))\n",
    "model_5.add(Dense(20))\n",
    "model_5.add(Activation('tanh'))\n",
    "model_5.add(Dense(10))\n",
    "model_5.add(Activation('softmax'))\n",
    "model_5.compile(loss='mse', optimizer=SGD(lr=0.087), metrics=['accuracy'])\n",
    "model_5.summary()"
   ]
  },
  {
   "cell_type": "code",
   "execution_count": 97,
   "metadata": {},
   "outputs": [
    {
     "name": "stdout",
     "output_type": "stream",
     "text": [
      "Train on 60000 samples, validate on 10000 samples\n",
      "Epoch 1/50\n",
      "60000/60000 [==============================] - 2s 41us/step - loss: 0.0734 - acc: 0.4918 - val_loss: 0.0555 - val_acc: 0.7167\n",
      "Epoch 2/50\n",
      "60000/60000 [==============================] - 2s 28us/step - loss: 0.0458 - acc: 0.7711 - val_loss: 0.0370 - val_acc: 0.8191\n",
      "Epoch 3/50\n",
      "60000/60000 [==============================] - 2s 28us/step - loss: 0.0331 - acc: 0.8326 - val_loss: 0.0284 - val_acc: 0.8593\n",
      "Epoch 4/50\n",
      "60000/60000 [==============================] - 2s 28us/step - loss: 0.0266 - acc: 0.8611 - val_loss: 0.0235 - val_acc: 0.8762\n",
      "Epoch 5/50\n",
      "60000/60000 [==============================] - 2s 28us/step - loss: 0.0227 - acc: 0.8754 - val_loss: 0.0206 - val_acc: 0.8863\n",
      "Epoch 6/50\n",
      "60000/60000 [==============================] - 2s 28us/step - loss: 0.0203 - acc: 0.8849 - val_loss: 0.0186 - val_acc: 0.8959\n",
      "Epoch 7/50\n",
      "60000/60000 [==============================] - 2s 28us/step - loss: 0.0186 - acc: 0.8920 - val_loss: 0.0173 - val_acc: 0.8985\n",
      "Epoch 8/50\n",
      "60000/60000 [==============================] - 2s 28us/step - loss: 0.0173 - acc: 0.8975 - val_loss: 0.0163 - val_acc: 0.9027\n",
      "Epoch 9/50\n",
      "60000/60000 [==============================] - 2s 28us/step - loss: 0.0163 - acc: 0.9022 - val_loss: 0.0154 - val_acc: 0.9051\n",
      "Epoch 10/50\n",
      "60000/60000 [==============================] - 2s 28us/step - loss: 0.0156 - acc: 0.9063 - val_loss: 0.0148 - val_acc: 0.9090\n",
      "Epoch 11/50\n",
      "60000/60000 [==============================] - 2s 28us/step - loss: 0.0149 - acc: 0.9094 - val_loss: 0.0142 - val_acc: 0.9114\n",
      "Epoch 12/50\n",
      "60000/60000 [==============================] - 2s 28us/step - loss: 0.0143 - acc: 0.9125 - val_loss: 0.0137 - val_acc: 0.9147\n",
      "Epoch 13/50\n",
      "60000/60000 [==============================] - 2s 28us/step - loss: 0.0138 - acc: 0.9152 - val_loss: 0.0132 - val_acc: 0.9167\n",
      "Epoch 14/50\n",
      "60000/60000 [==============================] - 2s 28us/step - loss: 0.0134 - acc: 0.9174 - val_loss: 0.0129 - val_acc: 0.9186\n",
      "Epoch 15/50\n",
      "60000/60000 [==============================] - 2s 28us/step - loss: 0.0130 - acc: 0.9202 - val_loss: 0.0125 - val_acc: 0.9210\n",
      "Epoch 16/50\n",
      "60000/60000 [==============================] - 2s 28us/step - loss: 0.0126 - acc: 0.9220 - val_loss: 0.0122 - val_acc: 0.9217\n",
      "Epoch 17/50\n",
      "60000/60000 [==============================] - 2s 28us/step - loss: 0.0123 - acc: 0.9238 - val_loss: 0.0119 - val_acc: 0.9246\n",
      "Epoch 18/50\n",
      "60000/60000 [==============================] - 2s 28us/step - loss: 0.0120 - acc: 0.9253 - val_loss: 0.0117 - val_acc: 0.9264\n",
      "Epoch 19/50\n",
      "60000/60000 [==============================] - 2s 28us/step - loss: 0.0117 - acc: 0.9273 - val_loss: 0.0114 - val_acc: 0.9281\n",
      "Epoch 20/50\n",
      "60000/60000 [==============================] - 2s 28us/step - loss: 0.0114 - acc: 0.9293 - val_loss: 0.0112 - val_acc: 0.9296\n",
      "Epoch 21/50\n",
      "60000/60000 [==============================] - 2s 28us/step - loss: 0.0112 - acc: 0.9310 - val_loss: 0.0109 - val_acc: 0.9312\n",
      "Epoch 22/50\n",
      "60000/60000 [==============================] - 2s 28us/step - loss: 0.0109 - acc: 0.9327 - val_loss: 0.0107 - val_acc: 0.9315\n",
      "Epoch 23/50\n",
      "60000/60000 [==============================] - 2s 28us/step - loss: 0.0107 - acc: 0.9339 - val_loss: 0.0105 - val_acc: 0.9332\n",
      "Epoch 24/50\n",
      "60000/60000 [==============================] - 2s 28us/step - loss: 0.0105 - acc: 0.9356 - val_loss: 0.0104 - val_acc: 0.9335\n",
      "Epoch 25/50\n",
      "60000/60000 [==============================] - 2s 28us/step - loss: 0.0102 - acc: 0.9371 - val_loss: 0.0102 - val_acc: 0.9362\n",
      "Epoch 26/50\n",
      "60000/60000 [==============================] - 2s 28us/step - loss: 0.0100 - acc: 0.9385 - val_loss: 0.0100 - val_acc: 0.9364\n",
      "Epoch 27/50\n",
      "60000/60000 [==============================] - 2s 28us/step - loss: 0.0098 - acc: 0.9396 - val_loss: 0.0098 - val_acc: 0.9367\n",
      "Epoch 28/50\n",
      "60000/60000 [==============================] - 2s 28us/step - loss: 0.0097 - acc: 0.9410 - val_loss: 0.0097 - val_acc: 0.9374\n",
      "Epoch 29/50\n",
      "60000/60000 [==============================] - 2s 28us/step - loss: 0.0095 - acc: 0.9419 - val_loss: 0.0095 - val_acc: 0.9383\n",
      "Epoch 30/50\n",
      "60000/60000 [==============================] - 2s 29us/step - loss: 0.0093 - acc: 0.9431 - val_loss: 0.0094 - val_acc: 0.9392\n",
      "Epoch 31/50\n",
      "60000/60000 [==============================] - 2s 29us/step - loss: 0.0091 - acc: 0.9443 - val_loss: 0.0092 - val_acc: 0.9403\n",
      "Epoch 32/50\n",
      "60000/60000 [==============================] - 2s 28us/step - loss: 0.0090 - acc: 0.9449 - val_loss: 0.0091 - val_acc: 0.9410\n",
      "Epoch 33/50\n",
      "60000/60000 [==============================] - 2s 29us/step - loss: 0.0088 - acc: 0.9463 - val_loss: 0.0090 - val_acc: 0.9430\n",
      "Epoch 34/50\n",
      "60000/60000 [==============================] - 2s 28us/step - loss: 0.0087 - acc: 0.9471 - val_loss: 0.0088 - val_acc: 0.9436\n",
      "Epoch 35/50\n",
      "60000/60000 [==============================] - 2s 28us/step - loss: 0.0085 - acc: 0.9477 - val_loss: 0.0087 - val_acc: 0.9451\n",
      "Epoch 36/50\n",
      "60000/60000 [==============================] - 2s 29us/step - loss: 0.0084 - acc: 0.9488 - val_loss: 0.0086 - val_acc: 0.9463\n",
      "Epoch 37/50\n",
      "60000/60000 [==============================] - 2s 29us/step - loss: 0.0082 - acc: 0.9500 - val_loss: 0.0085 - val_acc: 0.9469\n",
      "Epoch 38/50\n",
      "60000/60000 [==============================] - 2s 28us/step - loss: 0.0081 - acc: 0.9506 - val_loss: 0.0084 - val_acc: 0.9474\n",
      "Epoch 39/50\n",
      "60000/60000 [==============================] - ETA: 0s - loss: 0.0080 - acc: 0.951 - 2s 28us/step - loss: 0.0080 - acc: 0.9510 - val_loss: 0.0082 - val_acc: 0.9473\n",
      "Epoch 40/50\n",
      "60000/60000 [==============================] - 2s 28us/step - loss: 0.0078 - acc: 0.9521 - val_loss: 0.0081 - val_acc: 0.9491\n",
      "Epoch 41/50\n",
      "60000/60000 [==============================] - 2s 28us/step - loss: 0.0077 - acc: 0.9528 - val_loss: 0.0080 - val_acc: 0.9488\n",
      "Epoch 42/50\n",
      "60000/60000 [==============================] - 2s 28us/step - loss: 0.0076 - acc: 0.9534 - val_loss: 0.0079 - val_acc: 0.9496\n",
      "Epoch 43/50\n",
      "60000/60000 [==============================] - 2s 28us/step - loss: 0.0075 - acc: 0.9540 - val_loss: 0.0078 - val_acc: 0.9505\n",
      "Epoch 44/50\n",
      "60000/60000 [==============================] - 2s 28us/step - loss: 0.0074 - acc: 0.9546 - val_loss: 0.0078 - val_acc: 0.9510\n",
      "Epoch 45/50\n",
      "60000/60000 [==============================] - 2s 28us/step - loss: 0.0073 - acc: 0.9554 - val_loss: 0.0077 - val_acc: 0.9510\n",
      "Epoch 46/50\n",
      "60000/60000 [==============================] - 2s 28us/step - loss: 0.0072 - acc: 0.9564 - val_loss: 0.0076 - val_acc: 0.9507\n",
      "Epoch 47/50\n",
      "60000/60000 [==============================] - 2s 30us/step - loss: 0.0071 - acc: 0.9569 - val_loss: 0.0075 - val_acc: 0.9511\n",
      "Epoch 48/50\n",
      "60000/60000 [==============================] - 2s 29us/step - loss: 0.0070 - acc: 0.9577 - val_loss: 0.0074 - val_acc: 0.9526\n",
      "Epoch 49/50\n",
      "60000/60000 [==============================] - 2s 31us/step - loss: 0.0069 - acc: 0.9581 - val_loss: 0.0074 - val_acc: 0.9525\n",
      "Epoch 50/50\n",
      "60000/60000 [==============================] - 2s 30us/step - loss: 0.0068 - acc: 0.9589 - val_loss: 0.0073 - val_acc: 0.9530\n"
     ]
    }
   ],
   "source": [
    "model_5_out=model_5.fit(x_train_n, y_train, batch_size=100, epochs=50,verbose =1,validation_data = (x_test_n,y_test))"
   ]
  },
  {
   "cell_type": "markdown",
   "metadata": {},
   "source": [
    "# 9. 畫圖比較\n",
    "\n",
    "### 發現Tanh比Relu還要更快收斂，且正確率都有到90%以上。但正率還是Relu高出一些。神經元採用3層Hidden Layer 分別為100、50、20的來嘗試，計算時間也比較快很多"
   ]
  },
  {
   "cell_type": "code",
   "execution_count": 113,
   "metadata": {},
   "outputs": [
    {
     "data": {
      "image/png": "[encoded data removed]",
      "text/plain": [
       "<Figure size 432x288 with 1 Axes>"
      ]
     },
     "metadata": {},
     "output_type": "display_data"
    }
   ],
   "source": [
    "plt.plot(model_4_out.history[\"acc\"])\n",
    "plt.plot(model_5_out.history[\"acc\"])\n",
    "\n",
    "plt.title(\"model training accuracy\")\n",
    "plt.ylabel(\"accuracy\")\n",
    "plt.xlabel(\"epoch\")\n",
    "plt.legend([\"Relu\",\"Tanh\"],loc=\"best\")\n",
    "plt.show()"
   ]
  },
  {
   "cell_type": "code",
   "execution_count": 114,
   "metadata": {},
   "outputs": [
    {
     "data": {
      "image/png": "[encoded data removed]",
      "text/plain": [
       "<Figure size 432x288 with 1 Axes>"
      ]
     },
     "metadata": {},
     "output_type": "display_data"
    }
   ],
   "source": [
    "plt.plot(model_4_out.history[\"val_loss\"])\n",
    "plt.plot(model_5_out.history[\"val_loss\"])\n",
    "\n",
    "plt.title(\"model validation loss\")\n",
    "plt.ylabel(\"loss\")\n",
    "plt.xlabel(\"epoch\")\n",
    "plt.legend([\"Relu\",\"Tanh\"],loc=\"best\")\n",
    "plt.show()"
   ]
  },
  {
   "cell_type": "markdown",
   "metadata": {},
   "source": [
    "# 10. 在Relu下把Optimizer 選用Adadelta"
   ]
  },
  {
   "cell_type": "code",
   "execution_count": 100,
   "metadata": {},
   "outputs": [
    {
     "name": "stdout",
     "output_type": "stream",
     "text": [
      "_________________________________________________________________\n",
      "Layer (type)                 Output Shape              Param #   \n",
      "=================================================================\n",
      "dense_99 (Dense)             (None, 100)               78500     \n",
      "_________________________________________________________________\n",
      "activation_97 (Activation)   (None, 100)               0         \n",
      "_________________________________________________________________\n",
      "dense_100 (Dense)            (None, 50)                5050      \n",
      "_________________________________________________________________\n",
      "activation_98 (Activation)   (None, 50)                0         \n",
      "_________________________________________________________________\n",
      "dense_101 (Dense)            (None, 20)                1020      \n",
      "_________________________________________________________________\n",
      "dense_102 (Dense)            (None, 10)                210       \n",
      "_________________________________________________________________\n",
      "activation_99 (Activation)   (None, 10)                0         \n",
      "=================================================================\n",
      "Total params: 84,780\n",
      "Trainable params: 84,780\n",
      "Non-trainable params: 0\n",
      "_________________________________________________________________\n"
     ]
    }
   ],
   "source": [
    "model_6 = Sequential()\n",
    "model_6.add(Dense(100, input_dim=784))\n",
    "model_6.add(Activation('relu'))\n",
    "model_6.add(Dense(50))\n",
    "model_6.add(Activation('relu'))\n",
    "model_6.add(Dense(20))\n",
    "model_6.add(Dense(10))\n",
    "model_6.add(Activation('softmax'))\n",
    "model_6.compile(loss='mse', optimizer=Adadelta(lr=0.087), metrics=['accuracy'])\n",
    "model_6.summary()"
   ]
  },
  {
   "cell_type": "code",
   "execution_count": 101,
   "metadata": {},
   "outputs": [
    {
     "name": "stdout",
     "output_type": "stream",
     "text": [
      "Train on 60000 samples, validate on 10000 samples\n",
      "Epoch 1/50\n",
      "60000/60000 [==============================] - 3s 51us/step - loss: 0.0815 - acc: 0.3394 - val_loss: 0.0670 - val_acc: 0.6220\n",
      "Epoch 2/50\n",
      "60000/60000 [==============================] - 2s 35us/step - loss: 0.0486 - acc: 0.7179 - val_loss: 0.0346 - val_acc: 0.7873\n",
      "Epoch 3/50\n",
      "60000/60000 [==============================] - 2s 37us/step - loss: 0.0288 - acc: 0.8254 - val_loss: 0.0228 - val_acc: 0.8667\n",
      "Epoch 4/50\n",
      "60000/60000 [==============================] - 2s 35us/step - loss: 0.0214 - acc: 0.8695 - val_loss: 0.0184 - val_acc: 0.8894\n",
      "Epoch 5/50\n",
      "60000/60000 [==============================] - 2s 32us/step - loss: 0.0181 - acc: 0.8873 - val_loss: 0.0162 - val_acc: 0.8986\n",
      "Epoch 6/50\n",
      "60000/60000 [==============================] - 2s 32us/step - loss: 0.0162 - acc: 0.8981 - val_loss: 0.0149 - val_acc: 0.9066\n",
      "Epoch 7/50\n",
      "60000/60000 [==============================] - 2s 32us/step - loss: 0.0150 - acc: 0.9056 - val_loss: 0.0139 - val_acc: 0.9127\n",
      "Epoch 8/50\n",
      "60000/60000 [==============================] - 2s 32us/step - loss: 0.0141 - acc: 0.9104 - val_loss: 0.0131 - val_acc: 0.9169\n",
      "Epoch 9/50\n",
      "60000/60000 [==============================] - 2s 33us/step - loss: 0.0133 - acc: 0.9148 - val_loss: 0.0125 - val_acc: 0.9228\n",
      "Epoch 10/50\n",
      "60000/60000 [==============================] - 2s 33us/step - loss: 0.0127 - acc: 0.9188 - val_loss: 0.0121 - val_acc: 0.9249\n",
      "Epoch 11/50\n",
      "60000/60000 [==============================] - 2s 33us/step - loss: 0.0122 - acc: 0.9218 - val_loss: 0.0116 - val_acc: 0.9275\n",
      "Epoch 12/50\n",
      "60000/60000 [==============================] - 2s 33us/step - loss: 0.0118 - acc: 0.9251 - val_loss: 0.0113 - val_acc: 0.9285\n",
      "Epoch 13/50\n",
      "60000/60000 [==============================] - 2s 33us/step - loss: 0.0114 - acc: 0.9277 - val_loss: 0.0109 - val_acc: 0.9300\n",
      "Epoch 14/50\n",
      "60000/60000 [==============================] - 2s 33us/step - loss: 0.0111 - acc: 0.9294 - val_loss: 0.0107 - val_acc: 0.9320\n",
      "Epoch 15/50\n",
      "60000/60000 [==============================] - 2s 33us/step - loss: 0.0107 - acc: 0.9317 - val_loss: 0.0104 - val_acc: 0.9332\n",
      "Epoch 16/50\n",
      "60000/60000 [==============================] - 2s 33us/step - loss: 0.0104 - acc: 0.9336 - val_loss: 0.0101 - val_acc: 0.9356\n",
      "Epoch 17/50\n",
      "60000/60000 [==============================] - 2s 33us/step - loss: 0.0101 - acc: 0.9357 - val_loss: 0.0099 - val_acc: 0.9355\n",
      "Epoch 18/50\n",
      "60000/60000 [==============================] - 2s 33us/step - loss: 0.0099 - acc: 0.9376 - val_loss: 0.0097 - val_acc: 0.9383\n",
      "Epoch 19/50\n",
      "60000/60000 [==============================] - 2s 33us/step - loss: 0.0096 - acc: 0.9390 - val_loss: 0.0095 - val_acc: 0.9393\n",
      "Epoch 20/50\n",
      "60000/60000 [==============================] - 2s 34us/step - loss: 0.0094 - acc: 0.9405 - val_loss: 0.0093 - val_acc: 0.9402\n",
      "Epoch 21/50\n",
      "60000/60000 [==============================] - 2s 32us/step - loss: 0.0092 - acc: 0.9420 - val_loss: 0.0091 - val_acc: 0.9414\n",
      "Epoch 22/50\n",
      "60000/60000 [==============================] - 2s 35us/step - loss: 0.0090 - acc: 0.9434 - val_loss: 0.0090 - val_acc: 0.9429\n",
      "Epoch 23/50\n",
      "60000/60000 [==============================] - 2s 33us/step - loss: 0.0088 - acc: 0.9450 - val_loss: 0.0088 - val_acc: 0.9430\n",
      "Epoch 24/50\n",
      "60000/60000 [==============================] - 2s 33us/step - loss: 0.0086 - acc: 0.9456 - val_loss: 0.0087 - val_acc: 0.9440\n",
      "Epoch 25/50\n",
      "60000/60000 [==============================] - 2s 33us/step - loss: 0.0084 - acc: 0.9476 - val_loss: 0.0086 - val_acc: 0.9444\n",
      "Epoch 26/50\n",
      "60000/60000 [==============================] - 2s 33us/step - loss: 0.0083 - acc: 0.9483 - val_loss: 0.0084 - val_acc: 0.9450\n",
      "Epoch 27/50\n",
      "60000/60000 [==============================] - 2s 33us/step - loss: 0.0081 - acc: 0.9494 - val_loss: 0.0082 - val_acc: 0.9466\n",
      "Epoch 28/50\n",
      "60000/60000 [==============================] - 2s 33us/step - loss: 0.0079 - acc: 0.9505 - val_loss: 0.0081 - val_acc: 0.9472\n",
      "Epoch 29/50\n",
      "60000/60000 [==============================] - 2s 33us/step - loss: 0.0078 - acc: 0.9514 - val_loss: 0.0080 - val_acc: 0.9472\n",
      "Epoch 30/50\n",
      "60000/60000 [==============================] - 2s 33us/step - loss: 0.0076 - acc: 0.9531 - val_loss: 0.0079 - val_acc: 0.9473\n",
      "Epoch 31/50\n",
      "60000/60000 [==============================] - 2s 34us/step - loss: 0.0075 - acc: 0.9537 - val_loss: 0.0077 - val_acc: 0.9500\n",
      "Epoch 32/50\n",
      "60000/60000 [==============================] - 2s 33us/step - loss: 0.0073 - acc: 0.9542 - val_loss: 0.0076 - val_acc: 0.9500\n",
      "Epoch 33/50\n",
      "60000/60000 [==============================] - 2s 33us/step - loss: 0.0072 - acc: 0.9554 - val_loss: 0.0075 - val_acc: 0.9507\n",
      "Epoch 34/50\n",
      "60000/60000 [==============================] - 2s 33us/step - loss: 0.0071 - acc: 0.9561 - val_loss: 0.0074 - val_acc: 0.9524\n",
      "Epoch 35/50\n",
      "60000/60000 [==============================] - 2s 33us/step - loss: 0.0070 - acc: 0.9571 - val_loss: 0.0073 - val_acc: 0.9531\n",
      "Epoch 36/50\n",
      "60000/60000 [==============================] - 2s 34us/step - loss: 0.0068 - acc: 0.9576 - val_loss: 0.0072 - val_acc: 0.9533\n",
      "Epoch 37/50\n",
      "60000/60000 [==============================] - 2s 33us/step - loss: 0.0067 - acc: 0.9584 - val_loss: 0.0071 - val_acc: 0.9535\n",
      "Epoch 38/50\n",
      "60000/60000 [==============================] - 2s 33us/step - loss: 0.0066 - acc: 0.9593 - val_loss: 0.0071 - val_acc: 0.9548\n",
      "Epoch 39/50\n",
      "60000/60000 [==============================] - 2s 33us/step - loss: 0.0065 - acc: 0.9602 - val_loss: 0.0070 - val_acc: 0.9557\n",
      "Epoch 40/50\n",
      "60000/60000 [==============================] - 2s 33us/step - loss: 0.0064 - acc: 0.9610 - val_loss: 0.0069 - val_acc: 0.9562\n",
      "Epoch 41/50\n",
      "60000/60000 [==============================] - 2s 33us/step - loss: 0.0063 - acc: 0.9615 - val_loss: 0.0068 - val_acc: 0.9557\n",
      "Epoch 42/50\n",
      "60000/60000 [==============================] - 2s 33us/step - loss: 0.0062 - acc: 0.9627 - val_loss: 0.0067 - val_acc: 0.9574\n",
      "Epoch 43/50\n",
      "60000/60000 [==============================] - 2s 33us/step - loss: 0.0061 - acc: 0.9628 - val_loss: 0.0067 - val_acc: 0.9581\n",
      "Epoch 44/50\n",
      "60000/60000 [==============================] - 2s 33us/step - loss: 0.0060 - acc: 0.9638 - val_loss: 0.0066 - val_acc: 0.9583\n",
      "Epoch 45/50\n",
      "60000/60000 [==============================] - 2s 33us/step - loss: 0.0059 - acc: 0.9639 - val_loss: 0.0065 - val_acc: 0.9586\n",
      "Epoch 46/50\n",
      "60000/60000 [==============================] - 2s 33us/step - loss: 0.0058 - acc: 0.9645 - val_loss: 0.0064 - val_acc: 0.9594\n",
      "Epoch 47/50\n",
      "60000/60000 [==============================] - 2s 33us/step - loss: 0.0057 - acc: 0.9653 - val_loss: 0.0063 - val_acc: 0.9599\n",
      "Epoch 48/50\n",
      "60000/60000 [==============================] - 2s 33us/step - loss: 0.0056 - acc: 0.9659 - val_loss: 0.0063 - val_acc: 0.9600\n",
      "Epoch 49/50\n",
      "60000/60000 [==============================] - 2s 33us/step - loss: 0.0055 - acc: 0.9667 - val_loss: 0.0062 - val_acc: 0.9602\n",
      "Epoch 50/50\n",
      "60000/60000 [==============================] - 2s 33us/step - loss: 0.0054 - acc: 0.9672 - val_loss: 0.0062 - val_acc: 0.9603\n"
     ]
    }
   ],
   "source": [
    "model_6_out=model_6.fit(x_train_n, y_train, batch_size=100, epochs=50,verbose =1,validation_data = (x_test_n,y_test))"
   ]
  },
  {
   "cell_type": "markdown",
   "metadata": {},
   "source": [
    "# 11. 在Tanh下把Optimizer 選用Adadelta"
   ]
  },
  {
   "cell_type": "code",
   "execution_count": 102,
   "metadata": {},
   "outputs": [
    {
     "name": "stdout",
     "output_type": "stream",
     "text": [
      "_________________________________________________________________\n",
      "Layer (type)                 Output Shape              Param #   \n",
      "=================================================================\n",
      "dense_103 (Dense)            (None, 100)               78500     \n",
      "_________________________________________________________________\n",
      "activation_100 (Activation)  (None, 100)               0         \n",
      "_________________________________________________________________\n",
      "dense_104 (Dense)            (None, 50)                5050      \n",
      "_________________________________________________________________\n",
      "activation_101 (Activation)  (None, 50)                0         \n",
      "_________________________________________________________________\n",
      "dense_105 (Dense)            (None, 20)                1020      \n",
      "_________________________________________________________________\n",
      "activation_102 (Activation)  (None, 20)                0         \n",
      "_________________________________________________________________\n",
      "dense_106 (Dense)            (None, 10)                210       \n",
      "_________________________________________________________________\n",
      "activation_103 (Activation)  (None, 10)                0         \n",
      "=================================================================\n",
      "Total params: 84,780\n",
      "Trainable params: 84,780\n",
      "Non-trainable params: 0\n",
      "_________________________________________________________________\n"
     ]
    }
   ],
   "source": [
    "model_7 = Sequential()\n",
    "model_7.add(Dense(100, input_dim=784))\n",
    "model_7.add(Activation('tanh'))\n",
    "model_7.add(Dense(50))\n",
    "model_7.add(Activation('tanh'))\n",
    "model_7.add(Dense(20))\n",
    "model_7.add(Activation('tanh'))\n",
    "model_7.add(Dense(10))\n",
    "model_7.add(Activation('softmax'))\n",
    "model_7.compile(loss='mse', optimizer=Adadelta(lr=0.087), metrics=['accuracy'])\n",
    "model_7.summary()"
   ]
  },
  {
   "cell_type": "code",
   "execution_count": 103,
   "metadata": {},
   "outputs": [
    {
     "name": "stdout",
     "output_type": "stream",
     "text": [
      "Train on 60000 samples, validate on 10000 samples\n",
      "Epoch 1/50\n",
      "60000/60000 [==============================] - 3s 53us/step - loss: 0.0705 - acc: 0.5238 - val_loss: 0.0533 - val_acc: 0.7196\n",
      "Epoch 2/50\n",
      "60000/60000 [==============================] - 2s 39us/step - loss: 0.0441 - acc: 0.7757 - val_loss: 0.0359 - val_acc: 0.8211\n",
      "Epoch 3/50\n",
      "60000/60000 [==============================] - 2s 40us/step - loss: 0.0323 - acc: 0.8334 - val_loss: 0.0279 - val_acc: 0.8533\n",
      "Epoch 4/50\n",
      "60000/60000 [==============================] - 2s 40us/step - loss: 0.0264 - acc: 0.8573 - val_loss: 0.0236 - val_acc: 0.8712\n",
      "Epoch 5/50\n",
      "60000/60000 [==============================] - 2s 41us/step - loss: 0.0229 - acc: 0.8722 - val_loss: 0.0209 - val_acc: 0.8828\n",
      "Epoch 6/50\n",
      "60000/60000 [==============================] - 2s 39us/step - loss: 0.0205 - acc: 0.8826 - val_loss: 0.0190 - val_acc: 0.8900\n",
      "Epoch 7/50\n",
      "60000/60000 [==============================] - 2s 40us/step - loss: 0.0189 - acc: 0.8901 - val_loss: 0.0176 - val_acc: 0.8969\n",
      "Epoch 8/50\n",
      "60000/60000 [==============================] - 3s 42us/step - loss: 0.0176 - acc: 0.8963 - val_loss: 0.0165 - val_acc: 0.9010\n",
      "Epoch 9/50\n",
      "60000/60000 [==============================] - 2s 39us/step - loss: 0.0166 - acc: 0.9007 - val_loss: 0.0157 - val_acc: 0.9061\n",
      "Epoch 10/50\n",
      "60000/60000 [==============================] - 2s 40us/step - loss: 0.0159 - acc: 0.9047 - val_loss: 0.0150 - val_acc: 0.9092\n",
      "Epoch 11/50\n",
      "60000/60000 [==============================] - 2s 39us/step - loss: 0.0152 - acc: 0.9079 - val_loss: 0.0144 - val_acc: 0.9132\n",
      "Epoch 12/50\n",
      "60000/60000 [==============================] - 2s 39us/step - loss: 0.0146 - acc: 0.9107 - val_loss: 0.0139 - val_acc: 0.9149\n",
      "Epoch 13/50\n",
      "60000/60000 [==============================] - 2s 41us/step - loss: 0.0141 - acc: 0.9133 - val_loss: 0.0135 - val_acc: 0.9168\n",
      "Epoch 14/50\n",
      "60000/60000 [==============================] - 2s 40us/step - loss: 0.0137 - acc: 0.9155 - val_loss: 0.0131 - val_acc: 0.9192\n",
      "Epoch 15/50\n",
      "60000/60000 [==============================] - 2s 40us/step - loss: 0.0133 - acc: 0.9174 - val_loss: 0.0128 - val_acc: 0.9207\n",
      "Epoch 16/50\n",
      "60000/60000 [==============================] - 2s 40us/step - loss: 0.0130 - acc: 0.9198 - val_loss: 0.0124 - val_acc: 0.9216\n",
      "Epoch 17/50\n",
      "60000/60000 [==============================] - 2s 40us/step - loss: 0.0126 - acc: 0.9216 - val_loss: 0.0121 - val_acc: 0.9239\n",
      "Epoch 18/50\n",
      "60000/60000 [==============================] - 2s 40us/step - loss: 0.0123 - acc: 0.9234 - val_loss: 0.0119 - val_acc: 0.9245\n",
      "Epoch 19/50\n",
      "60000/60000 [==============================] - 2s 40us/step - loss: 0.0121 - acc: 0.9252 - val_loss: 0.0117 - val_acc: 0.9264\n",
      "Epoch 20/50\n",
      "60000/60000 [==============================] - 2s 40us/step - loss: 0.0118 - acc: 0.9266 - val_loss: 0.0114 - val_acc: 0.9284\n",
      "Epoch 21/50\n",
      "60000/60000 [==============================] - 2s 38us/step - loss: 0.0116 - acc: 0.9281 - val_loss: 0.0112 - val_acc: 0.9284\n",
      "Epoch 22/50\n",
      "60000/60000 [==============================] - 2s 41us/step - loss: 0.0113 - acc: 0.9296 - val_loss: 0.0110 - val_acc: 0.9308\n",
      "Epoch 23/50\n",
      "60000/60000 [==============================] - 2s 41us/step - loss: 0.0111 - acc: 0.9313 - val_loss: 0.0109 - val_acc: 0.9304\n",
      "Epoch 24/50\n",
      "60000/60000 [==============================] - 2s 41us/step - loss: 0.0109 - acc: 0.9322 - val_loss: 0.0107 - val_acc: 0.9327\n",
      "Epoch 25/50\n",
      "60000/60000 [==============================] - 2s 41us/step - loss: 0.0107 - acc: 0.9336 - val_loss: 0.0105 - val_acc: 0.9349\n",
      "Epoch 26/50\n",
      "60000/60000 [==============================] - 2s 38us/step - loss: 0.0105 - acc: 0.9348 - val_loss: 0.0103 - val_acc: 0.9346\n",
      "Epoch 27/50\n",
      "60000/60000 [==============================] - 2s 40us/step - loss: 0.0103 - acc: 0.9359 - val_loss: 0.0101 - val_acc: 0.9365\n",
      "Epoch 28/50\n",
      "60000/60000 [==============================] - 2s 41us/step - loss: 0.0101 - acc: 0.9369 - val_loss: 0.0100 - val_acc: 0.9374\n",
      "Epoch 29/50\n",
      "60000/60000 [==============================] - 2s 41us/step - loss: 0.0099 - acc: 0.9380 - val_loss: 0.0099 - val_acc: 0.9381\n",
      "Epoch 30/50\n",
      "60000/60000 [==============================] - 2s 41us/step - loss: 0.0098 - acc: 0.9393 - val_loss: 0.0097 - val_acc: 0.9389\n",
      "Epoch 31/50\n",
      "60000/60000 [==============================] - 2s 40us/step - loss: 0.0096 - acc: 0.9404 - val_loss: 0.0096 - val_acc: 0.9388\n",
      "Epoch 32/50\n",
      "60000/60000 [==============================] - 2s 40us/step - loss: 0.0095 - acc: 0.9412 - val_loss: 0.0095 - val_acc: 0.9403\n",
      "Epoch 33/50\n",
      "60000/60000 [==============================] - 2s 35us/step - loss: 0.0093 - acc: 0.9422 - val_loss: 0.0094 - val_acc: 0.9409\n",
      "Epoch 34/50\n",
      "60000/60000 [==============================] - 2s 35us/step - loss: 0.0092 - acc: 0.9437 - val_loss: 0.0092 - val_acc: 0.9416\n",
      "Epoch 35/50\n",
      "60000/60000 [==============================] - 2s 34us/step - loss: 0.0090 - acc: 0.9442 - val_loss: 0.0091 - val_acc: 0.9426\n",
      "Epoch 36/50\n",
      "60000/60000 [==============================] - 2s 35us/step - loss: 0.0089 - acc: 0.9450 - val_loss: 0.0090 - val_acc: 0.9425\n",
      "Epoch 37/50\n",
      "60000/60000 [==============================] - 2s 35us/step - loss: 0.0088 - acc: 0.9462 - val_loss: 0.0089 - val_acc: 0.9426\n",
      "Epoch 38/50\n",
      "60000/60000 [==============================] - 2s 34us/step - loss: 0.0086 - acc: 0.9468 - val_loss: 0.0088 - val_acc: 0.9435\n",
      "Epoch 39/50\n",
      "60000/60000 [==============================] - 2s 34us/step - loss: 0.0085 - acc: 0.9477 - val_loss: 0.0087 - val_acc: 0.9453\n",
      "Epoch 40/50\n",
      "60000/60000 [==============================] - 2s 35us/step - loss: 0.0084 - acc: 0.9483 - val_loss: 0.0086 - val_acc: 0.9453\n",
      "Epoch 41/50\n",
      "60000/60000 [==============================] - 2s 35us/step - loss: 0.0083 - acc: 0.9494 - val_loss: 0.0085 - val_acc: 0.9451\n",
      "Epoch 42/50\n",
      "60000/60000 [==============================] - 2s 35us/step - loss: 0.0081 - acc: 0.9497 - val_loss: 0.0084 - val_acc: 0.9459\n",
      "Epoch 43/50\n",
      "60000/60000 [==============================] - 2s 34us/step - loss: 0.0080 - acc: 0.9505 - val_loss: 0.0083 - val_acc: 0.9463\n",
      "Epoch 44/50\n",
      "60000/60000 [==============================] - 2s 35us/step - loss: 0.0079 - acc: 0.9511 - val_loss: 0.0082 - val_acc: 0.9472\n",
      "Epoch 45/50\n",
      "60000/60000 [==============================] - 2s 35us/step - loss: 0.0078 - acc: 0.9522 - val_loss: 0.0081 - val_acc: 0.9471\n",
      "Epoch 46/50\n",
      "60000/60000 [==============================] - 2s 35us/step - loss: 0.0077 - acc: 0.9530 - val_loss: 0.0080 - val_acc: 0.9479\n",
      "Epoch 47/50\n",
      "60000/60000 [==============================] - 2s 35us/step - loss: 0.0076 - acc: 0.9536 - val_loss: 0.0079 - val_acc: 0.9489\n",
      "Epoch 48/50\n",
      "60000/60000 [==============================] - 2s 35us/step - loss: 0.0075 - acc: 0.9540 - val_loss: 0.0079 - val_acc: 0.9491\n",
      "Epoch 49/50\n",
      "60000/60000 [==============================] - 2s 35us/step - loss: 0.0074 - acc: 0.9547 - val_loss: 0.0078 - val_acc: 0.9496\n",
      "Epoch 50/50\n",
      "60000/60000 [==============================] - 2s 37us/step - loss: 0.0073 - acc: 0.9554 - val_loss: 0.0077 - val_acc: 0.9503\n"
     ]
    }
   ],
   "source": [
    "model_7_out=model_7.fit(x_train_n, y_train, batch_size=100, epochs=50,verbose =1,validation_data = (x_test_n,y_test))"
   ]
  },
  {
   "cell_type": "markdown",
   "metadata": {},
   "source": [
    "# 12. 在Tanh下把Optimizer 選用Adadelta，Learning rate調大10倍\n"
   ]
  },
  {
   "cell_type": "code",
   "execution_count": 125,
   "metadata": {},
   "outputs": [
    {
     "name": "stdout",
     "output_type": "stream",
     "text": [
      "_________________________________________________________________\n",
      "Layer (type)                 Output Shape              Param #   \n",
      "=================================================================\n",
      "dense_123 (Dense)            (None, 100)               78500     \n",
      "_________________________________________________________________\n",
      "activation_119 (Activation)  (None, 100)               0         \n",
      "_________________________________________________________________\n",
      "dense_124 (Dense)            (None, 50)                5050      \n",
      "_________________________________________________________________\n",
      "activation_120 (Activation)  (None, 50)                0         \n",
      "_________________________________________________________________\n",
      "dense_125 (Dense)            (None, 20)                1020      \n",
      "_________________________________________________________________\n",
      "activation_121 (Activation)  (None, 20)                0         \n",
      "_________________________________________________________________\n",
      "dense_126 (Dense)            (None, 10)                210       \n",
      "_________________________________________________________________\n",
      "activation_122 (Activation)  (None, 10)                0         \n",
      "=================================================================\n",
      "Total params: 84,780\n",
      "Trainable params: 84,780\n",
      "Non-trainable params: 0\n",
      "_________________________________________________________________\n"
     ]
    }
   ],
   "source": [
    "model_8 = Sequential()\n",
    "model_8.add(Dense(100, input_dim=784))\n",
    "model_8.add(Activation('tanh'))\n",
    "model_8.add(Dense(50))\n",
    "model_8.add(Activation('tanh'))\n",
    "model_8.add(Dense(20))\n",
    "model_8.add(Activation('tanh'))\n",
    "model_8.add(Dense(10))\n",
    "model_8.add(Activation('softmax'))\n",
    "model_8.compile(loss='mse', optimizer=Adadelta(lr=0.87), metrics=['accuracy'])\n",
    "model_8.summary()"
   ]
  },
  {
   "cell_type": "code",
   "execution_count": 126,
   "metadata": {},
   "outputs": [
    {
     "name": "stdout",
     "output_type": "stream",
     "text": [
      "Train on 60000 samples, validate on 10000 samples\n",
      "Epoch 1/50\n",
      "60000/60000 [==============================] - 3s 53us/step - loss: 0.0302 - acc: 0.8168 - val_loss: 0.0150 - val_acc: 0.9093\n",
      "Epoch 2/50\n",
      "60000/60000 [==============================] - 2s 38us/step - loss: 0.0135 - acc: 0.9163 - val_loss: 0.0114 - val_acc: 0.9293\n",
      "Epoch 3/50\n",
      "60000/60000 [==============================] - 2s 38us/step - loss: 0.0108 - acc: 0.9316 - val_loss: 0.0098 - val_acc: 0.9367\n",
      "Epoch 4/50\n",
      "60000/60000 [==============================] - 2s 39us/step - loss: 0.0092 - acc: 0.9425 - val_loss: 0.0087 - val_acc: 0.9446\n",
      "Epoch 5/50\n",
      "60000/60000 [==============================] - 2s 38us/step - loss: 0.0081 - acc: 0.9494 - val_loss: 0.0078 - val_acc: 0.9502\n",
      "Epoch 6/50\n",
      "60000/60000 [==============================] - 2s 39us/step - loss: 0.0072 - acc: 0.9550 - val_loss: 0.0074 - val_acc: 0.9528\n",
      "Epoch 7/50\n",
      "60000/60000 [==============================] - 2s 39us/step - loss: 0.0065 - acc: 0.9598 - val_loss: 0.0069 - val_acc: 0.9560\n",
      "Epoch 8/50\n",
      "60000/60000 [==============================] - 2s 40us/step - loss: 0.0060 - acc: 0.9630 - val_loss: 0.0062 - val_acc: 0.9612\n",
      "Epoch 9/50\n",
      "60000/60000 [==============================] - 2s 38us/step - loss: 0.0055 - acc: 0.9666 - val_loss: 0.0059 - val_acc: 0.9630\n",
      "Epoch 10/50\n",
      "60000/60000 [==============================] - 2s 39us/step - loss: 0.0051 - acc: 0.9689 - val_loss: 0.0057 - val_acc: 0.9634\n",
      "Epoch 11/50\n",
      "60000/60000 [==============================] - 2s 38us/step - loss: 0.0047 - acc: 0.9714 - val_loss: 0.0055 - val_acc: 0.9642\n",
      "Epoch 12/50\n",
      "60000/60000 [==============================] - 2s 39us/step - loss: 0.0045 - acc: 0.9731 - val_loss: 0.0053 - val_acc: 0.9659\n",
      "Epoch 13/50\n",
      "60000/60000 [==============================] - 2s 39us/step - loss: 0.0042 - acc: 0.9749 - val_loss: 0.0053 - val_acc: 0.9667\n",
      "Epoch 14/50\n",
      "60000/60000 [==============================] - 2s 39us/step - loss: 0.0039 - acc: 0.9767 - val_loss: 0.0049 - val_acc: 0.9674\n",
      "Epoch 15/50\n",
      "60000/60000 [==============================] - 2s 39us/step - loss: 0.0037 - acc: 0.9785 - val_loss: 0.0051 - val_acc: 0.9667\n",
      "Epoch 16/50\n",
      "60000/60000 [==============================] - 2s 39us/step - loss: 0.0035 - acc: 0.9801 - val_loss: 0.0047 - val_acc: 0.9699\n",
      "Epoch 17/50\n",
      "60000/60000 [==============================] - 2s 39us/step - loss: 0.0033 - acc: 0.9813 - val_loss: 0.0046 - val_acc: 0.9694\n",
      "Epoch 18/50\n",
      "60000/60000 [==============================] - 2s 39us/step - loss: 0.0031 - acc: 0.9820 - val_loss: 0.0047 - val_acc: 0.9694\n",
      "Epoch 19/50\n",
      "60000/60000 [==============================] - 2s 38us/step - loss: 0.0030 - acc: 0.9827 - val_loss: 0.0046 - val_acc: 0.9700\n",
      "Epoch 20/50\n",
      "60000/60000 [==============================] - 2s 39us/step - loss: 0.0028 - acc: 0.9843 - val_loss: 0.0044 - val_acc: 0.9715\n",
      "Epoch 21/50\n",
      "60000/60000 [==============================] - 2s 39us/step - loss: 0.0027 - acc: 0.9851 - val_loss: 0.0044 - val_acc: 0.9710\n",
      "Epoch 22/50\n",
      "60000/60000 [==============================] - 2s 40us/step - loss: 0.0025 - acc: 0.9858 - val_loss: 0.0043 - val_acc: 0.9718\n",
      "Epoch 23/50\n",
      "60000/60000 [==============================] - 2s 39us/step - loss: 0.0024 - acc: 0.9867 - val_loss: 0.0042 - val_acc: 0.9719\n",
      "Epoch 24/50\n",
      "60000/60000 [==============================] - 2s 41us/step - loss: 0.0023 - acc: 0.9874 - val_loss: 0.0042 - val_acc: 0.9723\n",
      "Epoch 25/50\n",
      "60000/60000 [==============================] - 2s 40us/step - loss: 0.0022 - acc: 0.9878 - val_loss: 0.0042 - val_acc: 0.9729\n",
      "Epoch 26/50\n",
      "60000/60000 [==============================] - 2s 39us/step - loss: 0.0021 - acc: 0.9886 - val_loss: 0.0041 - val_acc: 0.9737\n",
      "Epoch 27/50\n",
      "60000/60000 [==============================] - 2s 39us/step - loss: 0.0020 - acc: 0.9892 - val_loss: 0.0040 - val_acc: 0.9745\n",
      "Epoch 28/50\n",
      "60000/60000 [==============================] - 2s 38us/step - loss: 0.0019 - acc: 0.9900 - val_loss: 0.0041 - val_acc: 0.9733\n",
      "Epoch 29/50\n",
      "60000/60000 [==============================] - 2s 39us/step - loss: 0.0018 - acc: 0.9902 - val_loss: 0.0040 - val_acc: 0.9737\n",
      "Epoch 30/50\n",
      "60000/60000 [==============================] - 2s 38us/step - loss: 0.0017 - acc: 0.9906 - val_loss: 0.0040 - val_acc: 0.9743\n",
      "Epoch 31/50\n",
      "60000/60000 [==============================] - 2s 38us/step - loss: 0.0017 - acc: 0.9913 - val_loss: 0.0039 - val_acc: 0.9734\n",
      "Epoch 32/50\n",
      "60000/60000 [==============================] - 2s 38us/step - loss: 0.0016 - acc: 0.9919 - val_loss: 0.0041 - val_acc: 0.9732\n",
      "Epoch 33/50\n",
      "60000/60000 [==============================] - 2s 39us/step - loss: 0.0015 - acc: 0.9921 - val_loss: 0.0039 - val_acc: 0.9754\n",
      "Epoch 34/50\n",
      "60000/60000 [==============================] - 2s 39us/step - loss: 0.0014 - acc: 0.9930 - val_loss: 0.0039 - val_acc: 0.9743\n",
      "Epoch 35/50\n",
      "60000/60000 [==============================] - 2s 39us/step - loss: 0.0014 - acc: 0.9932 - val_loss: 0.0039 - val_acc: 0.9746\n",
      "Epoch 36/50\n",
      "60000/60000 [==============================] - 2s 39us/step - loss: 0.0013 - acc: 0.9936 - val_loss: 0.0038 - val_acc: 0.9747\n",
      "Epoch 37/50\n",
      "60000/60000 [==============================] - 2s 39us/step - loss: 0.0013 - acc: 0.9938 - val_loss: 0.0039 - val_acc: 0.9748\n",
      "Epoch 38/50\n",
      "60000/60000 [==============================] - 2s 39us/step - loss: 0.0012 - acc: 0.9942 - val_loss: 0.0039 - val_acc: 0.9754\n",
      "Epoch 39/50\n",
      "60000/60000 [==============================] - 2s 39us/step - loss: 0.0012 - acc: 0.9945 - val_loss: 0.0038 - val_acc: 0.9748\n",
      "Epoch 40/50\n",
      "60000/60000 [==============================] - 2s 39us/step - loss: 0.0011 - acc: 0.9947 - val_loss: 0.0038 - val_acc: 0.9758\n",
      "Epoch 41/50\n",
      "60000/60000 [==============================] - 2s 38us/step - loss: 0.0011 - acc: 0.9948 - val_loss: 0.0038 - val_acc: 0.9754\n",
      "Epoch 42/50\n",
      "60000/60000 [==============================] - 2s 39us/step - loss: 0.0010 - acc: 0.9950 - val_loss: 0.0037 - val_acc: 0.9762\n",
      "Epoch 43/50\n",
      "60000/60000 [==============================] - 2s 40us/step - loss: 0.0010 - acc: 0.9953 - val_loss: 0.0038 - val_acc: 0.9758\n",
      "Epoch 44/50\n",
      "60000/60000 [==============================] - 3s 42us/step - loss: 9.7334e-04 - acc: 0.9953 - val_loss: 0.0037 - val_acc: 0.9760\n",
      "Epoch 45/50\n",
      "60000/60000 [==============================] - 2s 39us/step - loss: 9.3260e-04 - acc: 0.9955 - val_loss: 0.0038 - val_acc: 0.9757\n",
      "Epoch 46/50\n",
      "60000/60000 [==============================] - 2s 39us/step - loss: 9.0759e-04 - acc: 0.9957 - val_loss: 0.0038 - val_acc: 0.9749\n",
      "Epoch 47/50\n",
      "60000/60000 [==============================] - 2s 40us/step - loss: 8.7983e-04 - acc: 0.9958 - val_loss: 0.0038 - val_acc: 0.9747\n",
      "Epoch 48/50\n",
      "60000/60000 [==============================] - 2s 40us/step - loss: 8.4948e-04 - acc: 0.9959 - val_loss: 0.0037 - val_acc: 0.9764\n",
      "Epoch 49/50\n",
      "60000/60000 [==============================] - 2s 40us/step - loss: 8.3787e-04 - acc: 0.9959 - val_loss: 0.0038 - val_acc: 0.9760\n",
      "Epoch 50/50\n",
      "60000/60000 [==============================] - 2s 39us/step - loss: 8.1186e-04 - acc: 0.9961 - val_loss: 0.0037 - val_acc: 0.9767\n"
     ]
    }
   ],
   "source": [
    "model_8_out=model_8.fit(x_train_n, y_train, batch_size=100, epochs=50,verbose =1,validation_data = (x_test_n,y_test))"
   ]
  },
  {
   "cell_type": "markdown",
   "metadata": {},
   "source": [
    "# 13. 在relu下把Optimizer 選用Adadelta，Learning rate調大10倍\n"
   ]
  },
  {
   "cell_type": "code",
   "execution_count": 129,
   "metadata": {},
   "outputs": [
    {
     "name": "stdout",
     "output_type": "stream",
     "text": [
      "_________________________________________________________________\n",
      "Layer (type)                 Output Shape              Param #   \n",
      "=================================================================\n",
      "dense_131 (Dense)            (None, 100)               78500     \n",
      "_________________________________________________________________\n",
      "activation_127 (Activation)  (None, 100)               0         \n",
      "_________________________________________________________________\n",
      "dense_132 (Dense)            (None, 50)                5050      \n",
      "_________________________________________________________________\n",
      "activation_128 (Activation)  (None, 50)                0         \n",
      "_________________________________________________________________\n",
      "dense_133 (Dense)            (None, 20)                1020      \n",
      "_________________________________________________________________\n",
      "activation_129 (Activation)  (None, 20)                0         \n",
      "_________________________________________________________________\n",
      "dense_134 (Dense)            (None, 10)                210       \n",
      "_________________________________________________________________\n",
      "activation_130 (Activation)  (None, 10)                0         \n",
      "=================================================================\n",
      "Total params: 84,780\n",
      "Trainable params: 84,780\n",
      "Non-trainable params: 0\n",
      "_________________________________________________________________\n"
     ]
    }
   ],
   "source": [
    "model_9 = Sequential()\n",
    "model_9.add(Dense(100, input_dim=784))\n",
    "model_9.add(Activation('relu'))\n",
    "model_9.add(Dense(50))\n",
    "model_9.add(Activation('relu'))\n",
    "model_9.add(Dense(20))\n",
    "model_9.add(Activation('relu'))\n",
    "model_9.add(Dense(10))\n",
    "model_9.add(Activation('softmax'))\n",
    "model_9.compile(loss='mse', optimizer=Adadelta(lr=0.87), metrics=['accuracy'])\n",
    "model_9.summary()"
   ]
  },
  {
   "cell_type": "code",
   "execution_count": 130,
   "metadata": {},
   "outputs": [
    {
     "name": "stdout",
     "output_type": "stream",
     "text": [
      "Train on 60000 samples, validate on 10000 samples\n",
      "Epoch 1/50\n",
      "60000/60000 [==============================] - 3s 53us/step - loss: 0.0337 - acc: 0.7655 - val_loss: 0.0142 - val_acc: 0.9072\n",
      "Epoch 2/50\n",
      "60000/60000 [==============================] - 2s 38us/step - loss: 0.0129 - acc: 0.9168 - val_loss: 0.0102 - val_acc: 0.9342\n",
      "Epoch 3/50\n",
      "60000/60000 [==============================] - 2s 36us/step - loss: 0.0100 - acc: 0.9362 - val_loss: 0.0092 - val_acc: 0.9427\n",
      "Epoch 4/50\n",
      "60000/60000 [==============================] - 2s 36us/step - loss: 0.0083 - acc: 0.9474 - val_loss: 0.0076 - val_acc: 0.9504\n",
      "Epoch 5/50\n",
      "60000/60000 [==============================] - 2s 36us/step - loss: 0.0072 - acc: 0.9541 - val_loss: 0.0072 - val_acc: 0.9532\n",
      "Epoch 6/50\n",
      "60000/60000 [==============================] - 2s 36us/step - loss: 0.0064 - acc: 0.9600 - val_loss: 0.0062 - val_acc: 0.9598\n",
      "Epoch 7/50\n",
      "60000/60000 [==============================] - 2s 36us/step - loss: 0.0057 - acc: 0.9644 - val_loss: 0.0059 - val_acc: 0.9626\n",
      "Epoch 8/50\n",
      "60000/60000 [==============================] - 2s 36us/step - loss: 0.0052 - acc: 0.9681 - val_loss: 0.0056 - val_acc: 0.9626\n",
      "Epoch 9/50\n",
      "60000/60000 [==============================] - 2s 36us/step - loss: 0.0047 - acc: 0.9713 - val_loss: 0.0052 - val_acc: 0.9665\n",
      "Epoch 10/50\n",
      "60000/60000 [==============================] - 2s 36us/step - loss: 0.0043 - acc: 0.9741 - val_loss: 0.0054 - val_acc: 0.9643\n",
      "Epoch 11/50\n",
      "60000/60000 [==============================] - 2s 36us/step - loss: 0.0039 - acc: 0.9767 - val_loss: 0.0051 - val_acc: 0.9661\n",
      "Epoch 12/50\n",
      "60000/60000 [==============================] - 2s 36us/step - loss: 0.0036 - acc: 0.9788 - val_loss: 0.0050 - val_acc: 0.9666\n",
      "Epoch 13/50\n",
      "60000/60000 [==============================] - 2s 36us/step - loss: 0.0034 - acc: 0.9802 - val_loss: 0.0048 - val_acc: 0.9684\n",
      "Epoch 14/50\n",
      "60000/60000 [==============================] - 2s 36us/step - loss: 0.0032 - acc: 0.9817 - val_loss: 0.0045 - val_acc: 0.9717\n",
      "Epoch 15/50\n",
      "60000/60000 [==============================] - 2s 36us/step - loss: 0.0029 - acc: 0.9832 - val_loss: 0.0046 - val_acc: 0.9690\n",
      "Epoch 16/50\n",
      "60000/60000 [==============================] - 2s 36us/step - loss: 0.0028 - acc: 0.9842 - val_loss: 0.0044 - val_acc: 0.9718\n",
      "Epoch 17/50\n",
      "60000/60000 [==============================] - 2s 36us/step - loss: 0.0026 - acc: 0.9854 - val_loss: 0.0043 - val_acc: 0.9725\n",
      "Epoch 18/50\n",
      "60000/60000 [==============================] - 2s 42us/step - loss: 0.0024 - acc: 0.9864 - val_loss: 0.0043 - val_acc: 0.9719\n",
      "Epoch 19/50\n",
      "60000/60000 [==============================] - 2s 40us/step - loss: 0.0023 - acc: 0.9872 - val_loss: 0.0040 - val_acc: 0.9742\n",
      "Epoch 20/50\n",
      "60000/60000 [==============================] - 2s 36us/step - loss: 0.0021 - acc: 0.9881 - val_loss: 0.0042 - val_acc: 0.9719\n",
      "Epoch 21/50\n",
      "60000/60000 [==============================] - 2s 36us/step - loss: 0.0020 - acc: 0.9889 - val_loss: 0.0041 - val_acc: 0.9732\n",
      "Epoch 22/50\n",
      "60000/60000 [==============================] - 2s 36us/step - loss: 0.0019 - acc: 0.9896 - val_loss: 0.0041 - val_acc: 0.9736\n",
      "Epoch 23/50\n",
      "60000/60000 [==============================] - 2s 37us/step - loss: 0.0018 - acc: 0.9903 - val_loss: 0.0043 - val_acc: 0.9726\n",
      "Epoch 24/50\n",
      "60000/60000 [==============================] - 2s 37us/step - loss: 0.0017 - acc: 0.9910 - val_loss: 0.0042 - val_acc: 0.9725\n",
      "Epoch 25/50\n",
      "60000/60000 [==============================] - 2s 36us/step - loss: 0.0016 - acc: 0.9913 - val_loss: 0.0041 - val_acc: 0.9732\n",
      "Epoch 26/50\n",
      "60000/60000 [==============================] - 2s 37us/step - loss: 0.0015 - acc: 0.9919 - val_loss: 0.0042 - val_acc: 0.9731\n",
      "Epoch 27/50\n",
      "60000/60000 [==============================] - 2s 37us/step - loss: 0.0015 - acc: 0.9922 - val_loss: 0.0041 - val_acc: 0.9734\n",
      "Epoch 28/50\n",
      "60000/60000 [==============================] - 2s 39us/step - loss: 0.0014 - acc: 0.9925 - val_loss: 0.0041 - val_acc: 0.9726\n",
      "Epoch 29/50\n",
      "60000/60000 [==============================] - 2s 41us/step - loss: 0.0014 - acc: 0.9926 - val_loss: 0.0039 - val_acc: 0.9736\n",
      "Epoch 30/50\n",
      "60000/60000 [==============================] - 2s 38us/step - loss: 0.0013 - acc: 0.9933 - val_loss: 0.0038 - val_acc: 0.9761\n",
      "Epoch 31/50\n",
      "60000/60000 [==============================] - ETA: 0s - loss: 0.0012 - acc: 0.993 - 2s 37us/step - loss: 0.0012 - acc: 0.9936 - val_loss: 0.0039 - val_acc: 0.9750\n",
      "Epoch 32/50\n",
      "60000/60000 [==============================] - 2s 36us/step - loss: 0.0012 - acc: 0.9939 - val_loss: 0.0037 - val_acc: 0.9759\n",
      "Epoch 33/50\n",
      "60000/60000 [==============================] - 2s 37us/step - loss: 0.0011 - acc: 0.9942 - val_loss: 0.0039 - val_acc: 0.9745\n",
      "Epoch 34/50\n",
      "60000/60000 [==============================] - 2s 37us/step - loss: 0.0011 - acc: 0.9943 - val_loss: 0.0038 - val_acc: 0.9761\n",
      "Epoch 35/50\n",
      "60000/60000 [==============================] - 2s 37us/step - loss: 0.0011 - acc: 0.9944 - val_loss: 0.0038 - val_acc: 0.9768\n",
      "Epoch 36/50\n",
      "60000/60000 [==============================] - 2s 36us/step - loss: 0.0010 - acc: 0.9947 - val_loss: 0.0039 - val_acc: 0.9756\n",
      "Epoch 37/50\n",
      "60000/60000 [==============================] - 2s 37us/step - loss: 9.8610e-04 - acc: 0.9949 - val_loss: 0.0038 - val_acc: 0.9763\n",
      "Epoch 38/50\n",
      "60000/60000 [==============================] - 2s 36us/step - loss: 9.5752e-04 - acc: 0.9950 - val_loss: 0.0039 - val_acc: 0.9751\n",
      "Epoch 39/50\n",
      "60000/60000 [==============================] - 2s 36us/step - loss: 9.2403e-04 - acc: 0.9952 - val_loss: 0.0037 - val_acc: 0.9758\n",
      "Epoch 40/50\n",
      "60000/60000 [==============================] - 2s 36us/step - loss: 9.0289e-04 - acc: 0.9952 - val_loss: 0.0037 - val_acc: 0.9760\n",
      "Epoch 41/50\n",
      "60000/60000 [==============================] - 2s 36us/step - loss: 8.6504e-04 - acc: 0.9955 - val_loss: 0.0037 - val_acc: 0.9760\n",
      "Epoch 42/50\n",
      "60000/60000 [==============================] - 2s 37us/step - loss: 8.4927e-04 - acc: 0.9955 - val_loss: 0.0038 - val_acc: 0.9768\n",
      "Epoch 43/50\n",
      "60000/60000 [==============================] - 2s 37us/step - loss: 8.1702e-04 - acc: 0.9957 - val_loss: 0.0039 - val_acc: 0.9756\n",
      "Epoch 44/50\n",
      "60000/60000 [==============================] - 2s 37us/step - loss: 8.0710e-04 - acc: 0.9957 - val_loss: 0.0037 - val_acc: 0.9770\n",
      "Epoch 45/50\n",
      "60000/60000 [==============================] - 2s 36us/step - loss: 7.6548e-04 - acc: 0.9959 - val_loss: 0.0038 - val_acc: 0.9759\n",
      "Epoch 46/50\n",
      "60000/60000 [==============================] - 2s 36us/step - loss: 7.5373e-04 - acc: 0.9960 - val_loss: 0.0038 - val_acc: 0.9761\n",
      "Epoch 47/50\n",
      "60000/60000 [==============================] - 2s 36us/step - loss: 7.3067e-04 - acc: 0.9961 - val_loss: 0.0037 - val_acc: 0.9766\n",
      "Epoch 48/50\n",
      "60000/60000 [==============================] - 2s 37us/step - loss: 7.2496e-04 - acc: 0.9962 - val_loss: 0.0038 - val_acc: 0.9764\n",
      "Epoch 49/50\n",
      "60000/60000 [==============================] - 2s 36us/step - loss: 6.9723e-04 - acc: 0.9963 - val_loss: 0.0039 - val_acc: 0.9759\n",
      "Epoch 50/50\n",
      "60000/60000 [==============================] - 2s 36us/step - loss: 6.7961e-04 - acc: 0.9964 - val_loss: 0.0038 - val_acc: 0.9760\n"
     ]
    }
   ],
   "source": [
    "model_9_out=model_9.fit(x_train_n, y_train, batch_size=100, epochs=50,verbose =1,validation_data = (x_test_n,y_test))"
   ]
  },
  {
   "cell_type": "markdown",
   "metadata": {},
   "source": [
    "# 14. 畫圖比較\n",
    "\n",
    "### 發現Adadelta會比SGD得到的正確率還要高，而學習率如果調高10倍，能縮短收斂時間。也發現Relu和Tanh的特性還是存在。 \n",
    "### Relu + Adadelta + lr=0.87 :正確率=99.64%、Loss=6.7961e-04\n",
    "### Tanh+Adadelta+lr=0.87 :正確率=99.61%、Loss=8.1186e-04 "
   ]
  },
  {
   "cell_type": "code",
   "execution_count": 131,
   "metadata": {},
   "outputs": [
    {
     "data": {
      "image/png": "[encoded data removed]",
      "text/plain": [
       "<Figure size 432x288 with 1 Axes>"
      ]
     },
     "metadata": {},
     "output_type": "display_data"
    }
   ],
   "source": [
    "plt.plot(model_6_out.history[\"acc\"])\n",
    "plt.plot(model_7_out.history[\"acc\"])\n",
    "plt.plot(model_8_out.history[\"acc\"])\n",
    "plt.plot(model_9_out.history[\"acc\"])\n",
    "\n",
    "plt.title(\"model training accuracy\")\n",
    "plt.ylabel(\"accuracy\")\n",
    "plt.xlabel(\"epoch\")\n",
    "plt.legend([\"Tanh+Adadelta+lr=0.087\",\"Relu+Adadelta+lr=0.087\",\"Tanh+Adadelta+lr=0.87\",\"Relu+Adadelta+lr=0.87\"],loc=\"best\")\n",
    "plt.show()"
   ]
  },
  {
   "cell_type": "code",
   "execution_count": 132,
   "metadata": {},
   "outputs": [
    {
     "data": {
      "image/png": "[encoded data removed]",
      "text/plain": [
       "<Figure size 432x288 with 1 Axes>"
      ]
     },
     "metadata": {},
     "output_type": "display_data"
    }
   ],
   "source": [
    "plt.plot(model_6_out.history[\"val_loss\"])\n",
    "plt.plot(model_7_out.history[\"val_loss\"])\n",
    "plt.plot(model_8_out.history[\"val_loss\"])\n",
    "plt.plot(model_9_out.history[\"val_loss\"])\n",
    "\n",
    "plt.title(\"model validation loss\")\n",
    "plt.ylabel(\"loss\")\n",
    "plt.xlabel(\"epoch\")\n",
    "plt.legend([\"Tanh+Adadelta+lr=0.087\",\"Relu+Adadelta+lr=0.087\",\"Tanh+Adadelta+lr=0.87\",\"Relu+Adadelta+lr=0.87\"],loc=\"best\")\n",
    "plt.show()"
   ]
  },
  {
   "cell_type": "code",
   "execution_count": 133,
   "metadata": {},
   "outputs": [
    {
     "name": "stdout",
     "output_type": "stream",
     "text": [
      "10000/10000 [==============================] - 0s 29us/step\n",
      "10000/10000 [==============================] - 0s 37us/step\n",
      "10000/10000 [==============================] - 0s 47us/step\n",
      "10000/10000 [==============================] - 0s 37us/step\n",
      "10000/10000 [==============================] - 0s 38us/step\n",
      "10000/10000 [==============================] - 0s 39us/step\n",
      "10000/10000 [==============================] - 0s 37us/step\n",
      "10000/10000 [==============================] - 0s 39us/step\n",
      "10000/10000 [==============================] - 0s 36us/step\n"
     ]
    }
   ],
   "source": [
    "score1=model_1.evaluate(x_test_n,y_test)\n",
    "score2=model_2.evaluate(x_test_n,y_test)\n",
    "score3=model_3.evaluate(x_test_n,y_test)\n",
    "score4=model_4.evaluate(x_test_n,y_test)\n",
    "score5=model_5.evaluate(x_test_n,y_test)\n",
    "score6=model_6.evaluate(x_test_n,y_test)\n",
    "score7=model_7.evaluate(x_test_n,y_test)\n",
    "score8=model_8.evaluate(x_test_n,y_test)\n",
    "score9=model_9.evaluate(x_test_n,y_test)"
   ]
  },
  {
   "cell_type": "markdown",
   "metadata": {},
   "source": [
    "# 15. 觀看評分結果 "
   ]
  },
  {
   "cell_type": "code",
   "execution_count": 135,
   "metadata": {},
   "outputs": [
    {
     "name": "stdout",
     "output_type": "stream",
     "text": [
      "loss: 0.08380426347255707 正確率: 0.3371\n",
      "loss: 0.028385812827944754 正確率: 0.8477\n",
      "loss: 0.08548021274805069 正確率: 0.21\n",
      "loss: 0.006254847893414262 正確率: 0.9579\n",
      "loss: 0.007261881811148487 正確率: 0.953\n",
      "loss: 0.006181335601617684 正確率: 0.9603\n",
      "loss: 0.0076890890939161185 正確率: 0.9503\n",
      "loss: 0.003672588820128249 正確率: 0.9767\n",
      "loss: 0.0037551003934106013 正確率: 0.976\n"
     ]
    }
   ],
   "source": [
    "print('loss:',score1[0],'正確率:',score1[1])\n",
    "print('loss:',score2[0],'正確率:',score2[1])\n",
    "print('loss:',score3[0],'正確率:',score3[1])\n",
    "print('loss:',score4[0],'正確率:',score4[1])\n",
    "print('loss:',score5[0],'正確率:',score5[1])\n",
    "print('loss:',score6[0],'正確率:',score6[1])\n",
    "print('loss:',score7[0],'正確率:',score7[1])\n",
    "print('loss:',score8[0],'正確率:',score8[1])\n",
    "print('loss:',score9[0],'正確率:',score9[1])"
   ]
  },
  {
   "cell_type": "markdown",
   "metadata": {},
   "source": [
    "# 16. 存取Model_9"
   ]
  },
  {
   "cell_type": "code",
   "execution_count": 136,
   "metadata": {},
   "outputs": [],
   "source": [
    "model_json = model_9.to_json()\n",
    "open('model_9.json','w').write(model_json)\n",
    "model_9.save_weights('model_9_weight.h5')"
   ]
  },
  {
   "cell_type": "markdown",
   "metadata": {},
   "source": [
    "# 17. 測試結果"
   ]
  },
  {
   "cell_type": "code",
   "execution_count": 147,
   "metadata": {},
   "outputs": [],
   "source": [
    "def test(測試編號):\n",
    "    plt.imshow(x_test[測試編號].reshape(28,28), cmap=\"Greys\")\n",
    "    print(\"32.59%Model判斷為:\", predict_1[測試編號])\n",
    "    print(\"83.98%Model判斷為:\", predict_2[測試編號])\n",
    "    print(\"99.64%Model判斷為:\", predict_9[測試編號])"
   ]
  },
  {
   "cell_type": "code",
   "execution_count": 148,
   "metadata": {},
   "outputs": [
    {
     "data": {
      "application/vnd.jupyter.widget-view+json": {
       "model_id": "d06600df878c4351a4517aa4846b75fb",
       "version_major": 2,
       "version_minor": 0
      },
      "text/plain": [
       "interactive(children=(IntSlider(value=4999, description='測試編號', max=9999), Button(description='Run Interact', …"
      ]
     },
     "metadata": {},
     "output_type": "display_data"
    },
    {
     "data": {
      "text/plain": [
       "<function __main__.test(測試編號)>"
      ]
     },
     "execution_count": 148,
     "metadata": {},
     "output_type": "execute_result"
    }
   ],
   "source": [
    "\n",
    "predict_1= model_1.predict_classes(x_test)\n",
    "predict_2= model_2.predict_classes(x_test)\n",
    "predict_9= model_9.predict_classes(x_test)\n",
    "\n",
    "interact_manual(test,測試編號=(0,9999))"
   ]
  },
  {
   "cell_type": "markdown",
   "metadata": {},
   "source": [
    "# 結論\n",
    "\n",
    "### 1. Relu比Tanh正確率還要高，但相對的收斂的時間慢一些\n",
    "### 2. Optimizer選用Adadelta可提高正確率，以及Learning rate調高的話，可以減少訓練時間，幾乎都是低於3秒。\n",
    "### 3. Hidden Layer起碼需要3層以上會有不錯的正確率，但是神經元數調太多的話，會造成訓練的時間增加。\n",
    "### 4. batch_size越小，則訓練時間越慢，但相對的正確會提高一些。而我的目標是訂在把Model設定在訓練時間短，而正 確率能達到90%以上"
   ]
  }
 ],
 "metadata": {
  "kernelspec": {
   "display_name": "Python 3",
   "language": "python",
   "name": "python3"
  },
  "language_info": {
   "codemirror_mode": {
    "name": "ipython",
    "version": 3
   },
   "file_extension": ".py",
   "mimetype": "text/x-python",
   "name": "python",
   "nbconvert_exporter": "python",
   "pygments_lexer": "ipython3",
   "version": "3.6.5"
  }
 },
 "nbformat": 4,
 "nbformat_minor": 2
}

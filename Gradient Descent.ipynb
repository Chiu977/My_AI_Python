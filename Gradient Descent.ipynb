{
 "cells": [
  {
   "cell_type": "code",
   "execution_count": 509,
   "metadata": {},
   "outputs": [],
   "source": [
    "%matplotlib inline\n",
    "import matplotlib.pyplot as plt\n",
    "import numpy as np\n",
    "from ipywidgets import interact_manual"
   ]
  },
  {
   "cell_type": "markdown",
   "metadata": {},
   "source": [
    " # 定義Loss Function :\n",
    "\n",
    " $f(x)=x^4+7x^3-4x^2-5x-9 $\n",
    " \n",
    " $\\frac{d f(x)}{dx}=4x^3+21x^2-8x-5$"
   ]
  },
  {
   "cell_type": "code",
   "execution_count": 510,
   "metadata": {},
   "outputs": [],
   "source": [
    "def Lossfunction(x):\n",
    "    return np.power(x,4)+7*np.power(x,3)-4*np.power(x,2)-5*x-9\n",
    "\n",
    "def diff_Lossfunction(x):\n",
    "    return 4*np.power(x,3)+21*np.power(x,2)-8*x-5"
   ]
  },
  {
   "cell_type": "markdown",
   "metadata": {},
   "source": [
    "# 用Gradient Descent去找Loss function最小值"
   ]
  },
  {
   "cell_type": "code",
   "execution_count": 511,
   "metadata": {},
   "outputs": [],
   "source": [
    "def findmind(x,iteration):\n",
    "\n",
    "    y= np.linspace(-9,4,1000)\n",
    "    plt.plot(y, Lossfunction(y))\n",
    "    X_axis=[]\n",
    "    Y_axis=[]\n",
    "    n=0.001\n",
    "    for i in range (iteration):\n",
    "        y=Lossfunction(x) \n",
    "        X_axis.append(x)\n",
    "        Y_axis.append(y)\n",
    "        \n",
    "        x=x-n*diff_Lossfunction(x)      \n",
    "    plt.scatter(X_axis,Y_axis,color='r')\n",
    "    print('Mini Point =('+str(X_axis[iteration-1])+','+str(Y_axis[iteration-1])+')')\n",
    "    #print(Y_axis)\n",
    "    print ('最小值:'+str(min(Y_axis)))\n",
    "    "
   ]
  },
  {
   "cell_type": "markdown",
   "metadata": {},
   "source": [
    "# 使用者設定疊代次數、起始值、Learning rate=0.001\n",
    "\n",
    "每一次進行微調時，把所有的X值和y值存在List，接著一次話在圖上。並且找到最小值約為-352.366，其中了解到起始值和疊代次數也會影響到是否為最小值。而Learning rate=0.001為多次試驗後為較好的。"
   ]
  },
  {
   "cell_type": "code",
   "execution_count": 512,
   "metadata": {},
   "outputs": [
    {
     "data": {
      "application/vnd.jupyter.widget-view+json": {
       "model_id": "33300ad0bb814ef6a1cf30ca205fb868",
       "version_major": 2,
       "version_minor": 0
      },
      "text/plain": [
       "interactive(children=(FloatSlider(value=-2.5, description='x', max=4.0, min=-9.0), IntSlider(value=55, descrip…"
      ]
     },
     "metadata": {},
     "output_type": "display_data"
    }
   ],
   "source": [
    "interact_manual(findmind,iteration=(10,100),x=(-9.,4.));"
   ]
  },
  {
   "cell_type": "code",
   "execution_count": null,
   "metadata": {},
   "outputs": [],
   "source": []
  },
  {
   "cell_type": "code",
   "execution_count": null,
   "metadata": {},
   "outputs": [],
   "source": []
  }
 ],
 "metadata": {
  "kernelspec": {
   "display_name": "Python 3",
   "language": "python",
   "name": "python3"
  },
  "language_info": {
   "codemirror_mode": {
    "name": "ipython",
    "version": 3
   },
   "file_extension": ".py",
   "mimetype": "text/x-python",
   "name": "python",
   "nbconvert_exporter": "python",
   "pygments_lexer": "ipython3",
   "version": "3.6.5"
  }
 },
 "nbformat": 4,
 "nbformat_minor": 2
}
